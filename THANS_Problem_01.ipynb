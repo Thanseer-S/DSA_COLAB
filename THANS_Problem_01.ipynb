{
  "nbformat": 4,
  "nbformat_minor": 0,
  "metadata": {
    "colab": {
      "provenance": [],
      "include_colab_link": true
    },
    "kernelspec": {
      "name": "python3",
      "display_name": "Python 3"
    },
    "language_info": {
      "name": "python"
    }
  },
  "cells": [
    {
      "cell_type": "markdown",
      "metadata": {
        "id": "view-in-github",
        "colab_type": "text"
      },
      "source": [
        "<a href=\"https://colab.research.google.com/github/Thanseer-S/DSA_COLAB/blob/main/THANS_Problem_01.ipynb\" target=\"_parent\"><img src=\"https://colab.research.google.com/assets/colab-badge.svg\" alt=\"Open In Colab\"/></a>"
      ]
    },
    {
      "cell_type": "markdown",
      "source": [
        "#Welcome Message Using Python"
      ],
      "metadata": {
        "id": "kMkcKcIzKH4c"
      }
    },
    {
      "cell_type": "code",
      "execution_count": null,
      "metadata": {
        "colab": {
          "base_uri": "https://localhost:8080/",
          "height": 356
        },
        "id": "rNkY8SHeJ_Wm",
        "outputId": "2cd23bb4-a5fb-4a13-ca0f-5047718fb1fa"
      },
      "outputs": [
        {
          "output_type": "error",
          "ename": "KeyboardInterrupt",
          "evalue": "Interrupted by user",
          "traceback": [
            "\u001b[0;31m---------------------------------------------------------------------------\u001b[0m",
            "\u001b[0;31mKeyboardInterrupt\u001b[0m                         Traceback (most recent call last)",
            "\u001b[0;32m/tmp/ipython-input-4067672800.py\u001b[0m in \u001b[0;36m<cell line: 0>\u001b[0;34m()\u001b[0m\n\u001b[0;32m----> 1\u001b[0;31m \u001b[0muser_name\u001b[0m \u001b[0;34m=\u001b[0m \u001b[0mstr\u001b[0m\u001b[0;34m(\u001b[0m\u001b[0minput\u001b[0m\u001b[0;34m(\u001b[0m\u001b[0;34m\"Enter your name : \"\u001b[0m\u001b[0;34m)\u001b[0m\u001b[0;34m)\u001b[0m\u001b[0;34m\u001b[0m\u001b[0;34m\u001b[0m\u001b[0m\n\u001b[0m\u001b[1;32m      2\u001b[0m \u001b[0;34m\u001b[0m\u001b[0m\n\u001b[1;32m      3\u001b[0m \u001b[0;32mdef\u001b[0m \u001b[0mgreet\u001b[0m\u001b[0;34m(\u001b[0m\u001b[0mname\u001b[0m\u001b[0;34m)\u001b[0m\u001b[0;34m:\u001b[0m\u001b[0;34m\u001b[0m\u001b[0;34m\u001b[0m\u001b[0m\n\u001b[1;32m      4\u001b[0m   \u001b[0mprint\u001b[0m\u001b[0;34m(\u001b[0m\u001b[0;34mf\"Welcome to Data Analytics, {name}\"\u001b[0m\u001b[0;34m)\u001b[0m\u001b[0;34m\u001b[0m\u001b[0;34m\u001b[0m\u001b[0m\n\u001b[1;32m      5\u001b[0m \u001b[0;34m\u001b[0m\u001b[0m\n",
            "\u001b[0;32m/usr/local/lib/python3.11/dist-packages/ipykernel/kernelbase.py\u001b[0m in \u001b[0;36mraw_input\u001b[0;34m(self, prompt)\u001b[0m\n\u001b[1;32m   1175\u001b[0m                 \u001b[0;34m\"raw_input was called, but this frontend does not support input requests.\"\u001b[0m\u001b[0;34m\u001b[0m\u001b[0;34m\u001b[0m\u001b[0m\n\u001b[1;32m   1176\u001b[0m             )\n\u001b[0;32m-> 1177\u001b[0;31m         return self._input_request(\n\u001b[0m\u001b[1;32m   1178\u001b[0m             \u001b[0mstr\u001b[0m\u001b[0;34m(\u001b[0m\u001b[0mprompt\u001b[0m\u001b[0;34m)\u001b[0m\u001b[0;34m,\u001b[0m\u001b[0;34m\u001b[0m\u001b[0;34m\u001b[0m\u001b[0m\n\u001b[1;32m   1179\u001b[0m             \u001b[0mself\u001b[0m\u001b[0;34m.\u001b[0m\u001b[0m_parent_ident\u001b[0m\u001b[0;34m[\u001b[0m\u001b[0;34m\"shell\"\u001b[0m\u001b[0;34m]\u001b[0m\u001b[0;34m,\u001b[0m\u001b[0;34m\u001b[0m\u001b[0;34m\u001b[0m\u001b[0m\n",
            "\u001b[0;32m/usr/local/lib/python3.11/dist-packages/ipykernel/kernelbase.py\u001b[0m in \u001b[0;36m_input_request\u001b[0;34m(self, prompt, ident, parent, password)\u001b[0m\n\u001b[1;32m   1217\u001b[0m             \u001b[0;32mexcept\u001b[0m \u001b[0mKeyboardInterrupt\u001b[0m\u001b[0;34m:\u001b[0m\u001b[0;34m\u001b[0m\u001b[0;34m\u001b[0m\u001b[0m\n\u001b[1;32m   1218\u001b[0m                 \u001b[0;31m# re-raise KeyboardInterrupt, to truncate traceback\u001b[0m\u001b[0;34m\u001b[0m\u001b[0;34m\u001b[0m\u001b[0m\n\u001b[0;32m-> 1219\u001b[0;31m                 \u001b[0;32mraise\u001b[0m \u001b[0mKeyboardInterrupt\u001b[0m\u001b[0;34m(\u001b[0m\u001b[0;34m\"Interrupted by user\"\u001b[0m\u001b[0;34m)\u001b[0m \u001b[0;32mfrom\u001b[0m \u001b[0;32mNone\u001b[0m\u001b[0;34m\u001b[0m\u001b[0;34m\u001b[0m\u001b[0m\n\u001b[0m\u001b[1;32m   1220\u001b[0m             \u001b[0;32mexcept\u001b[0m \u001b[0mException\u001b[0m\u001b[0;34m:\u001b[0m\u001b[0;34m\u001b[0m\u001b[0;34m\u001b[0m\u001b[0m\n\u001b[1;32m   1221\u001b[0m                 \u001b[0mself\u001b[0m\u001b[0;34m.\u001b[0m\u001b[0mlog\u001b[0m\u001b[0;34m.\u001b[0m\u001b[0mwarning\u001b[0m\u001b[0;34m(\u001b[0m\u001b[0;34m\"Invalid Message:\"\u001b[0m\u001b[0;34m,\u001b[0m \u001b[0mexc_info\u001b[0m\u001b[0;34m=\u001b[0m\u001b[0;32mTrue\u001b[0m\u001b[0;34m)\u001b[0m\u001b[0;34m\u001b[0m\u001b[0;34m\u001b[0m\u001b[0m\n",
            "\u001b[0;31mKeyboardInterrupt\u001b[0m: Interrupted by user"
          ]
        }
      ],
      "source": [
        "user_name = str(input(\"Enter your name : \"))\n",
        "\n",
        "def greet(name):\n",
        "  print(f\"Welcome to Data Analytics, {name}\")\n",
        "\n",
        "greet(user_name)"
      ]
    },
    {
      "cell_type": "markdown",
      "source": [
        "#Favorite Snack Printing"
      ],
      "metadata": {
        "id": "oMMrit6iK5xs"
      }
    },
    {
      "cell_type": "code",
      "source": [
        "user_input = str(input(\"Enter your favorite snacks : \"))\n",
        "\n",
        "def fav_snacks(snacks):\n",
        "  print(f\"I Love Munching On {snacks} during meetings !\")\n",
        "\n",
        "fav_snacks(user_input)"
      ],
      "metadata": {
        "colab": {
          "base_uri": "https://localhost:8080/"
        },
        "id": "-NXTWEvOLbGe",
        "outputId": "4ac3255e-ce73-4c23-f31c-62dc1ad3008e"
      },
      "execution_count": null,
      "outputs": [
        {
          "output_type": "stream",
          "name": "stdout",
          "text": [
            "Enter your favorite snacks : Pizza\n",
            "I Love Munching On Pizza during meetings !\n"
          ]
        }
      ]
    },
    {
      "cell_type": "markdown",
      "source": [
        "* Completed 15 tasks in a week\n",
        "* Plans to double the task next week -> 14 days -> 30 tasks\n",
        "* Calculate and print how many tasks you expect"
      ],
      "metadata": {
        "id": "bAcS9_OjL-Av"
      }
    },
    {
      "cell_type": "code",
      "source": [
        "#weeks_in_days = 14\n",
        "tasks = 15\n",
        "\n",
        "def taskPrediction(tasks):\n",
        "  expectedTasks = int(tasks) * 2\n",
        "  print(f\"Your Team will complete {expectedTasks} Tasks on Next week !\")\n",
        "\n",
        "taskPrediction(tasks)"
      ],
      "metadata": {
        "colab": {
          "base_uri": "https://localhost:8080/"
        },
        "id": "7cullRwjMupg",
        "outputId": "672a1246-f79f-48db-8fd6-1b67cac18ef4"
      },
      "execution_count": null,
      "outputs": [
        {
          "output_type": "stream",
          "name": "stdout",
          "text": [
            "Your Team will complete 30 Tasks on Next week !\n"
          ]
        }
      ]
    },
    {
      "cell_type": "markdown",
      "source": [
        "* Income, Expense\n",
        "* Find Savings"
      ],
      "metadata": {
        "id": "zULQAcDyOnbz"
      }
    },
    {
      "cell_type": "code",
      "source": [
        "income = int(input(\"Enter your Income : \"))\n",
        "expense = int(input(\"Enter your expense : \"))\n",
        "\n",
        "def Savings(inc, exp):\n",
        "  savings = inc - exp\n",
        "  print(f\"Your Income is {inc}/- and Expense is {exp}/- ! So your Savings is {savings}/-\")\n",
        "\n",
        "Savings(income, expense)"
      ],
      "metadata": {
        "colab": {
          "base_uri": "https://localhost:8080/"
        },
        "id": "aPnbVHcPPakm",
        "outputId": "b31f8a2b-6db7-47d3-aba8-9a625c99dbbb"
      },
      "execution_count": null,
      "outputs": [
        {
          "output_type": "stream",
          "name": "stdout",
          "text": [
            "Enter your Income : 45000\n",
            "Enter your expense : 12500\n",
            "Your Income is 45000/- and Expense is 12500/- ! So your Savings is 32500/-\n"
          ]
        }
      ]
    },
    {
      "cell_type": "markdown",
      "source": [
        "* Movie Night\n",
        "* No.of friends\n",
        "* No.of Popcorns\n",
        "* Calculate total no.of popcorns needed"
      ],
      "metadata": {
        "id": "65MzmFUyQfaB"
      }
    },
    {
      "cell_type": "code",
      "source": [
        "friends_invited = int(input(\"Enter how many friends will come tonight : \"))\n",
        "\n",
        "def ttp(friends_invited):\n",
        "  popcorn_bags = friends_invited\n",
        "  print(f\"You invited {friends_invited} friends and you need {popcorn_bags} Popcorn bags !\")\n",
        "\n",
        "ttp(friends_invited)"
      ],
      "metadata": {
        "colab": {
          "base_uri": "https://localhost:8080/"
        },
        "id": "Iw_qVEnvR4PN",
        "outputId": "daf2c4aa-e940-4397-a69b-460f47969ec1"
      },
      "execution_count": null,
      "outputs": [
        {
          "output_type": "stream",
          "name": "stdout",
          "text": [
            "Enter how many friends will come tonight : 67\n",
            "You invited 67 friends and you need 67 Popcorn bags !\n"
          ]
        }
      ]
    },
    {
      "cell_type": "markdown",
      "source": [
        "* ask for product review\n",
        "* out of 5\n",
        "* [ >= 4 -> Great Review thank you]\n",
        "* [ >= 3 -> Good ]\n",
        "* [ >= 2 -> Thank you ]\n",
        "* [ >= 0 -> Sorry ]"
      ],
      "metadata": {
        "id": "OCTkgHknSqf1"
      }
    },
    {
      "cell_type": "code",
      "source": [
        "print(\"Our New Product !\")\n",
        "rev = int(input(\"Rate our product out of 5 : \"))\n",
        "\n",
        "def rtct(rev):\n",
        "  if rev >= 4:\n",
        "    print(f\"Rating of {rev} ! Great .... !\")\n",
        "  elif rev >= 3:\n",
        "    print(f\"Rating of {rev} ! Good .... !\")\n",
        "  elif rev >= 2:\n",
        "    print(f\"Rating of {rev} ! Thank you .... !\")\n",
        "  else:\n",
        "    print(f\"Rating of {rev} ! Sorry .... !\")\n",
        "\n",
        "rtct(rev)\n"
      ],
      "metadata": {
        "colab": {
          "base_uri": "https://localhost:8080/"
        },
        "id": "AQj2cAKDUEb6",
        "outputId": "cf410ad2-4203-4f9a-82c0-2fe3d4c353c1"
      },
      "execution_count": null,
      "outputs": [
        {
          "output_type": "stream",
          "name": "stdout",
          "text": [
            "Our New Product !\n",
            "Rate our product out of 5 : 4\n",
            "Rating of 4 ! Great .... !\n"
          ]
        }
      ]
    },
    {
      "cell_type": "markdown",
      "source": [
        "* Calculate Average Sales\n",
        "* Sold 50 items - last month\n",
        "* 75 items this month\n",
        "* 100 items soon\n",
        "* average = sum / length"
      ],
      "metadata": {
        "id": "eVLeChTuVjZh"
      }
    },
    {
      "cell_type": "code",
      "source": [
        "##average\n",
        "sold_items = [50, 75, 100]\n",
        "\n",
        "def avg(sold_items):\n",
        "  summ = 0\n",
        "  for item in sold_items:\n",
        "    summ += item\n",
        "\n",
        "  avg = summ / (len(sold_items))\n",
        "\n",
        "  print(f\"Total Sum : {summ}\\nAverage : {avg}\")\n",
        "\n",
        "avg(sold_items)\n"
      ],
      "metadata": {
        "colab": {
          "base_uri": "https://localhost:8080/"
        },
        "id": "8QkoE0opWDqO",
        "outputId": "1eca6ce6-77e0-42fa-b386-818a9f342003"
      },
      "execution_count": null,
      "outputs": [
        {
          "output_type": "stream",
          "name": "stdout",
          "text": [
            "Total Sum : 225\n",
            "Average : 75.0\n"
          ]
        }
      ]
    },
    {
      "cell_type": "markdown",
      "source": [
        "* invest $500\n",
        "* rate 4% for 1 year\n",
        "* for 3 years its 4 x 3 = 12%\n",
        "* total return investment + 12%"
      ],
      "metadata": {
        "id": "LecifD38ZSDt"
      }
    },
    {
      "cell_type": "code",
      "source": [
        "investment = 5000\n",
        "\n",
        "def revenue(inv):\n",
        "  total_rate = 12\n",
        "  rate_in_price = inv * 12 / 100\n",
        "  total_revenue = inv + rate_in_price\n",
        "  print(f\"Investment : {inv}\\nTotal Revenue : {total_revenue}\")\n",
        "\n",
        "\n",
        "revenue(investment)\n",
        "\n"
      ],
      "metadata": {
        "id": "GR7a_MKzagYk",
        "colab": {
          "base_uri": "https://localhost:8080/"
        },
        "outputId": "adae9a74-eaae-44da-b8c2-bf718242ee6e"
      },
      "execution_count": null,
      "outputs": [
        {
          "output_type": "stream",
          "name": "stdout",
          "text": [
            "Investment : 5000\n",
            "Total Revenue : 5600.0\n"
          ]
        }
      ]
    },
    {
      "cell_type": "markdown",
      "source": [
        "* Party Planning\n",
        "* 10 members\n",
        "* 1 cake have 8 slice\n",
        "* how much cake do i need ?"
      ],
      "metadata": {
        "id": "NUzAh-Pi2Ppw"
      }
    },
    {
      "cell_type": "code",
      "source": [
        "import math\n",
        "\n",
        "guest = 20\n",
        "\n",
        "def orderCake(guest):\n",
        "  slices = 8\n",
        "  cake_needed = guest / slices\n",
        "  full_cake = math.ceil(cake_needed)\n",
        "  _slices = full_cake * slices\n",
        "  bal_slices = _slices - guest\n",
        "\n",
        "  print(f\"No.of Cakes Needed : {full_cake}\")\n",
        "  print(f\"No.of Slices Left : {bal_slices}\")\n",
        "\n",
        "orderCake(guest)"
      ],
      "metadata": {
        "colab": {
          "base_uri": "https://localhost:8080/"
        },
        "id": "rL0j7A4B2-R8",
        "outputId": "d4799565-ae98-46f6-c148-2d30299cbea2"
      },
      "execution_count": null,
      "outputs": [
        {
          "output_type": "stream",
          "name": "stdout",
          "text": [
            "No.of Cakes Needed : 3\n",
            "No.of Slices Left : 4\n"
          ]
        }
      ]
    },
    {
      "cell_type": "markdown",
      "source": [
        "* if short text have more than 10 characters\n",
        "* print more than 10 words great ... !"
      ],
      "metadata": {
        "id": "05GzJCbjCTdi"
      }
    },
    {
      "cell_type": "code",
      "source": [
        "word = str(input(\"Enter the text here : \"))\n",
        "\n",
        "def chln(word):\n",
        "  words = word.replace(\" \",\"\")\n",
        "  tt = 0\n",
        "  for i in words:\n",
        "    tt += 1\n",
        "  print(f\"Total Length : {tt}\")\n",
        "\n",
        "  if tt >= 10:\n",
        "    print(\"Character is lengthy ... !\")\n",
        "  else:\n",
        "    print(\"Character is short ... !\")\n",
        "\n",
        "chln(word)\n"
      ],
      "metadata": {
        "colab": {
          "base_uri": "https://localhost:8080/"
        },
        "id": "JrczOSP4Ctl3",
        "outputId": "b6246f1f-758b-4f85-97af-b0d70abfc526"
      },
      "execution_count": null,
      "outputs": [
        {
          "output_type": "stream",
          "name": "stdout",
          "text": [
            "Enter the text here : sheep is you\n",
            "Total Length : 10\n",
            "Character is lengthy ... !\n"
          ]
        }
      ]
    },
    {
      "cell_type": "markdown",
      "source": [
        "* 2 products\n",
        "* product a = 250\n",
        "* product b = 300\n",
        "* which product sold more"
      ],
      "metadata": {
        "id": "h_mT4vOjcisk"
      }
    },
    {
      "cell_type": "code",
      "source": [
        "itemss = {\n",
        "    \"product_a\": 250,\n",
        "    \"product_b\": 300\n",
        "}\n",
        "\n",
        "#access the print them\n",
        "cart = {}\n",
        "for pro, rate in itemss.items():\n",
        "  cart[pro] = rate\n",
        "\n",
        "for a,b in cart.items():\n",
        "  max()"
      ],
      "metadata": {
        "colab": {
          "base_uri": "https://localhost:8080/"
        },
        "id": "OF1XbSRbc1tV",
        "outputId": "97b8403a-3446-4c27-ae7f-6e662f32cab3"
      },
      "execution_count": null,
      "outputs": [
        {
          "output_type": "stream",
          "name": "stdout",
          "text": [
            "u\n",
            "u\n"
          ]
        }
      ]
    },
    {
      "cell_type": "markdown",
      "source": [
        "* total = $1000\n",
        "\n",
        "---\n",
        "\n",
        "\n",
        "* recieved = $750\n",
        "\n",
        "---\n",
        "\n",
        "\n",
        "* find the rate of percentage"
      ],
      "metadata": {
        "id": "SnceicL2oUHT"
      }
    },
    {
      "cell_type": "code",
      "source": [
        "total = 1000\n",
        "recieved = 750\n",
        "\n",
        "def scholarship(total, recieved):\n",
        "  rate = recieved / total * 100\n",
        "  print(f\"Congratulations you recieved {rate}% as scholarship ... !\")\n",
        "\n",
        "scholarship(total, recieved)"
      ],
      "metadata": {
        "colab": {
          "base_uri": "https://localhost:8080/"
        },
        "id": "qziU73aHsFsQ",
        "outputId": "a94096e7-bd61-40b0-8769-ef2db04212db"
      },
      "execution_count": null,
      "outputs": [
        {
          "output_type": "stream",
          "name": "stdout",
          "text": [
            "Congratulations you recieved 75.0% as scholarship ... !\n"
          ]
        }
      ]
    },
    {
      "cell_type": "markdown",
      "source": [
        "* favorite_color = \"\"\n",
        "* print the color"
      ],
      "metadata": {
        "id": "pvF9fxzMszkf"
      }
    },
    {
      "cell_type": "code",
      "source": [
        "favorite_color = str(input(\"Enter your favorite color : \"))\n",
        "\n",
        "def clr(fav):\n",
        "  print(f\"Your favorite color is {fav} ... !\")\n",
        "\n",
        "clr(favorite_color)"
      ],
      "metadata": {
        "colab": {
          "base_uri": "https://localhost:8080/"
        },
        "id": "UgEkSTF5s7WC",
        "outputId": "f703c00d-94ad-4e13-c5e3-02dcd233fdaa"
      },
      "execution_count": null,
      "outputs": [
        {
          "output_type": "stream",
          "name": "stdout",
          "text": [
            "Enter your favorite color : green\n",
            "Your favorite color is green ... !\n"
          ]
        }
      ]
    },
    {
      "cell_type": "markdown",
      "source": [
        "* a = 10\n",
        "* b = 20\n",
        "* sum"
      ],
      "metadata": {
        "id": "uRnuZmhXtSJe"
      }
    },
    {
      "cell_type": "code",
      "source": [
        "a = int(input(\"Enter the 1st number : \"))\n",
        "b = int(input(\"Enter the 2nd number : \"))\n",
        "\n",
        "def summ(a, b):\n",
        "  _sum = a + b\n",
        "  print(f\"Sum = {_sum}\")\n",
        "\n",
        "summ(a, b)"
      ],
      "metadata": {
        "colab": {
          "base_uri": "https://localhost:8080/"
        },
        "id": "Z4HeJ-IhtZEZ",
        "outputId": "1d7d979d-15d1-4025-8914-401f9b33e229"
      },
      "execution_count": null,
      "outputs": [
        {
          "output_type": "stream",
          "name": "stdout",
          "text": [
            "Enter the 1st number : 45\n",
            "Enter the 2nd number : 5\n",
            "Sum = 50\n"
          ]
        }
      ]
    },
    {
      "cell_type": "markdown",
      "source": [
        "* even / odd"
      ],
      "metadata": {
        "id": "_Y9AyUfyt4gJ"
      }
    },
    {
      "cell_type": "code",
      "source": [
        "num = int(input(\"Enter a number to check it's odd / even : \"))\n",
        "num1 = int(input(\"Enter a number to check it's odd / even : \"))\n",
        "\n",
        "def odev(num):\n",
        "  if num % 2 == 0:\n",
        "    print(f\"{num} is even .... !\")\n",
        "  else:\n",
        "    print(f\"{num} is odd .... !\")\n",
        "\n",
        "odev(num)\n",
        "odev(num1)"
      ],
      "metadata": {
        "colab": {
          "base_uri": "https://localhost:8080/"
        },
        "id": "osRLIfuKt6mH",
        "outputId": "96974c7c-8515-4bfe-858d-d9dc6137655e"
      },
      "execution_count": null,
      "outputs": [
        {
          "output_type": "stream",
          "name": "stdout",
          "text": [
            "Enter a number to check it's odd / even : 23\n",
            "Enter a number to check it's odd / even : 12\n",
            "23 is odd .... !\n",
            "12 is even .... !\n"
          ]
        }
      ]
    },
    {
      "cell_type": "markdown",
      "source": [
        "* Avg\n",
        "* 10, 20, 20"
      ],
      "metadata": {
        "id": "-49gR1kQufIf"
      }
    },
    {
      "cell_type": "code",
      "source": [
        "num = [10, 20, 80, 90]\n",
        "\n",
        "def avgg(num):\n",
        "  summm = 0\n",
        "  lenn = 0\n",
        "\n",
        "  for n in num:\n",
        "    summm += n\n",
        "    lenn += 1\n",
        "\n",
        "  avg = summm / lenn\n",
        "  print(f\"Sum : {summm}\\nAverage : {avg}\")\n",
        "\n",
        "\n",
        "avgg(num)"
      ],
      "metadata": {
        "colab": {
          "base_uri": "https://localhost:8080/"
        },
        "id": "Vrf1OiqjwMUG",
        "outputId": "714ad817-c517-4b80-ab13-fa4c7fba7cb9"
      },
      "execution_count": null,
      "outputs": [
        {
          "output_type": "stream",
          "name": "stdout",
          "text": [
            "Sum : 200\n",
            "Average : 50.0\n"
          ]
        }
      ]
    },
    {
      "cell_type": "markdown",
      "source": [
        "* Area of circle\n",
        "\n",
        "---\n",
        "\n",
        "* pi * r * r"
      ],
      "metadata": {
        "id": "w5BFQDfKzqDq"
      }
    },
    {
      "cell_type": "code",
      "source": [
        "rad = int(input(\"Enter the radius of circle : \"))\n",
        "def area(rad):\n",
        "  pi = 3.14\n",
        "  ar = pi * rad * rad\n",
        "  print(f\"Area of the circle having radius of {rad} is {ar}\")\n",
        "\n",
        "area(rad)"
      ],
      "metadata": {
        "colab": {
          "base_uri": "https://localhost:8080/"
        },
        "id": "gRDCebjAzvUj",
        "outputId": "708e4a75-9528-4389-c820-e5bced9ad4b6"
      },
      "execution_count": null,
      "outputs": [
        {
          "output_type": "stream",
          "name": "stdout",
          "text": [
            "Enter the radius of circle : 2\n",
            "Area of the circle having radius of 2 is 12.56\n"
          ]
        }
      ]
    },
    {
      "cell_type": "markdown",
      "source": [
        "* string length"
      ],
      "metadata": {
        "id": "ocl5_qbG0pRJ"
      }
    },
    {
      "cell_type": "code",
      "source": [
        "text = \"Python\"\n",
        "text.replace(\" \",\"\")\n",
        "def strln(txt):\n",
        "  len = 0\n",
        "  for n in txt:\n",
        "    len += 1\n",
        "  print(f\"You have {len} letters ... !\")\n",
        "\n",
        "strln(text)"
      ],
      "metadata": {
        "colab": {
          "base_uri": "https://localhost:8080/"
        },
        "id": "lxkg-rzO0yTj",
        "outputId": "201e0a92-95b3-410e-bc7e-edf759e96b5b"
      },
      "execution_count": null,
      "outputs": [
        {
          "output_type": "stream",
          "name": "stdout",
          "text": [
            "You have 6 letters ... !\n"
          ]
        }
      ]
    },
    {
      "cell_type": "markdown",
      "source": [
        "* Max of two numbers"
      ],
      "metadata": {
        "id": "2afjTr2i2U_Y"
      }
    },
    {
      "cell_type": "code",
      "source": [
        "num = [1902, 123, 567, 999]\n",
        "\n",
        "def maxx(num):\n",
        "  maxxx = max(num)\n",
        "  print(f\"Max {maxxx}\")\n",
        "\n",
        "maxx(num)"
      ],
      "metadata": {
        "colab": {
          "base_uri": "https://localhost:8080/"
        },
        "id": "971QKKh42ZbF",
        "outputId": "b31709df-3ebb-4bb5-b530-87bafc2fb0f4"
      },
      "execution_count": null,
      "outputs": [
        {
          "output_type": "stream",
          "name": "stdout",
          "text": [
            "Max 1902\n"
          ]
        }
      ]
    },
    {
      "cell_type": "markdown",
      "source": [
        "* Percentage\n",
        "* total mark = 500\n",
        "* obtained mark = 400\n",
        "* 400/500 * 100"
      ],
      "metadata": {
        "id": "pt2bISSM26Hd"
      }
    },
    {
      "cell_type": "code",
      "source": [
        "max_mark = 500\n",
        "obt_mrk = int(input(\"Enter the mark you got : \"))\n",
        "def rt(mx,ob):\n",
        "  per = ob / mx * 100\n",
        "  print(f\"Percentage of mark : {per}%\")\n",
        "\n",
        "rt(max_mark, obt_mrk)"
      ],
      "metadata": {
        "colab": {
          "base_uri": "https://localhost:8080/"
        },
        "id": "EmfWTZ463GxT",
        "outputId": "266360df-453f-4023-bd45-a59b142f823e"
      },
      "execution_count": null,
      "outputs": [
        {
          "output_type": "stream",
          "name": "stdout",
          "text": [
            "Enter the mark you got : 495\n",
            "Percentage of mark : 99.0\n"
          ]
        }
      ]
    }
  ]
}