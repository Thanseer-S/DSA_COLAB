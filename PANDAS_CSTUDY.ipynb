{
  "nbformat": 4,
  "nbformat_minor": 0,
  "metadata": {
    "colab": {
      "provenance": [],
      "authorship_tag": "ABX9TyP1KQNIFHB30Zd2CVv/CpvQ",
      "include_colab_link": true
    },
    "kernelspec": {
      "name": "python3",
      "display_name": "Python 3"
    },
    "language_info": {
      "name": "python"
    }
  },
  "cells": [
    {
      "cell_type": "markdown",
      "metadata": {
        "id": "view-in-github",
        "colab_type": "text"
      },
      "source": [
        "<a href=\"https://colab.research.google.com/github/Thanseer-S/DSA_COLAB/blob/main/PANDAS_CSTUDY.ipynb\" target=\"_parent\"><img src=\"https://colab.research.google.com/assets/colab-badge.svg\" alt=\"Open In Colab\"/></a>"
      ]
    },
    {
      "cell_type": "code",
      "execution_count": null,
      "metadata": {
        "id": "_aLQmultg24B"
      },
      "outputs": [],
      "source": [
        "import pandas as pd\n",
        "import numpy as np"
      ]
    },
    {
      "cell_type": "code",
      "source": [
        "data = pd.read_csv(\"IMDB-Movie-Data.csv\")\n",
        "\n",
        "print(data)"
      ],
      "metadata": {
        "colab": {
          "base_uri": "https://localhost:8080/"
        },
        "id": "n2TiRD9BkXyO",
        "outputId": "ab104d41-08a7-4832-d810-d9f0c6aab176"
      },
      "execution_count": null,
      "outputs": [
        {
          "output_type": "stream",
          "name": "stdout",
          "text": [
            "     Rank                    Title                     Genre  \\\n",
            "0       1  Guardians of the Galaxy   Action,Adventure,Sci-Fi   \n",
            "1       2               Prometheus  Adventure,Mystery,Sci-Fi   \n",
            "2       3                    Split           Horror,Thriller   \n",
            "3       4                     Sing   Animation,Comedy,Family   \n",
            "4       5            Suicide Squad  Action,Adventure,Fantasy   \n",
            "..    ...                      ...                       ...   \n",
            "995   996     Secret in Their Eyes       Crime,Drama,Mystery   \n",
            "996   997          Hostel: Part II                    Horror   \n",
            "997   998   Step Up 2: The Streets       Drama,Music,Romance   \n",
            "998   999             Search Party          Adventure,Comedy   \n",
            "999  1000               Nine Lives     Comedy,Family,Fantasy   \n",
            "\n",
            "                                           Description              Director  \\\n",
            "0    A group of intergalactic criminals are forced ...            James Gunn   \n",
            "1    Following clues to the origin of mankind, a te...          Ridley Scott   \n",
            "2    Three girls are kidnapped by a man with a diag...    M. Night Shyamalan   \n",
            "3    In a city of humanoid animals, a hustling thea...  Christophe Lourdelet   \n",
            "4    A secret government agency recruits some of th...            David Ayer   \n",
            "..                                                 ...                   ...   \n",
            "995  A tight-knit team of rising investigators, alo...             Billy Ray   \n",
            "996  Three American college students studying abroa...              Eli Roth   \n",
            "997  Romantic sparks occur between two dance studen...            Jon M. Chu   \n",
            "998  A pair of friends embark on a mission to reuni...        Scot Armstrong   \n",
            "999  A stuffy businessman finds himself trapped ins...      Barry Sonnenfeld   \n",
            "\n",
            "                                                Actors  Year  \\\n",
            "0    Chris Pratt, Vin Diesel, Bradley Cooper, Zoe S...  2014   \n",
            "1    Noomi Rapace, Logan Marshall-Green, Michael Fa...  2012   \n",
            "2    James McAvoy, Anya Taylor-Joy, Haley Lu Richar...  2016   \n",
            "3    Matthew McConaughey,Reese Witherspoon, Seth Ma...  2016   \n",
            "4    Will Smith, Jared Leto, Margot Robbie, Viola D...  2016   \n",
            "..                                                 ...   ...   \n",
            "995  Chiwetel Ejiofor, Nicole Kidman, Julia Roberts...  2015   \n",
            "996  Lauren German, Heather Matarazzo, Bijou Philli...  2007   \n",
            "997  Robert Hoffman, Briana Evigan, Cassie Ventura,...  2008   \n",
            "998  Adam Pally, T.J. Miller, Thomas Middleditch,Sh...  2014   \n",
            "999  Kevin Spacey, Jennifer Garner, Robbie Amell,Ch...  2016   \n",
            "\n",
            "     Runtime (Minutes)  Rating   Votes  Revenue (Millions)  Metascore  \n",
            "0                  121     8.1  757074              333.13       76.0  \n",
            "1                  124     7.0  485820              126.46       65.0  \n",
            "2                  117     7.3  157606              138.12       62.0  \n",
            "3                  108     7.2   60545              270.32       59.0  \n",
            "4                  123     6.2  393727              325.02       40.0  \n",
            "..                 ...     ...     ...                 ...        ...  \n",
            "995                111     6.2   27585                 NaN       45.0  \n",
            "996                 94     5.5   73152               17.54       46.0  \n",
            "997                 98     6.2   70699               58.01       50.0  \n",
            "998                 93     5.6    4881                 NaN       22.0  \n",
            "999                 87     5.3   12435               19.64       11.0  \n",
            "\n",
            "[1000 rows x 12 columns]\n"
          ]
        }
      ]
    },
    {
      "cell_type": "code",
      "source": [
        "print(\"Shape of dataset:\", data.shape)\n",
        "\n",
        "print(\"\\nFirst few rows of the dataset:\\n\", data.head())\n",
        "\n",
        "print(\"\\nColumn names:\", data.columns)\n",
        "\n",
        "print(\"\\nData types:\\n\", data.dtypes)\n",
        "\n",
        "print(\"\\nMissing values:\\n\", data.isnull().sum())"
      ],
      "metadata": {
        "id": "P5YsUxQSpCeN",
        "colab": {
          "base_uri": "https://localhost:8080/"
        },
        "outputId": "65fb1aa1-6987-4ef6-9fa7-e890136abe07"
      },
      "execution_count": 9,
      "outputs": [
        {
          "output_type": "stream",
          "name": "stdout",
          "text": [
            "Shape of dataset: (1000, 12)\n",
            "\n",
            "First few rows of the dataset:\n",
            "    Rank                    Title                     Genre  \\\n",
            "0     1  Guardians of the Galaxy   Action,Adventure,Sci-Fi   \n",
            "1     2               Prometheus  Adventure,Mystery,Sci-Fi   \n",
            "2     3                    Split           Horror,Thriller   \n",
            "3     4                     Sing   Animation,Comedy,Family   \n",
            "4     5            Suicide Squad  Action,Adventure,Fantasy   \n",
            "\n",
            "                                         Description              Director  \\\n",
            "0  A group of intergalactic criminals are forced ...            James Gunn   \n",
            "1  Following clues to the origin of mankind, a te...          Ridley Scott   \n",
            "2  Three girls are kidnapped by a man with a diag...    M. Night Shyamalan   \n",
            "3  In a city of humanoid animals, a hustling thea...  Christophe Lourdelet   \n",
            "4  A secret government agency recruits some of th...            David Ayer   \n",
            "\n",
            "                                              Actors  Year  Runtime (Minutes)  \\\n",
            "0  Chris Pratt, Vin Diesel, Bradley Cooper, Zoe S...  2014                121   \n",
            "1  Noomi Rapace, Logan Marshall-Green, Michael Fa...  2012                124   \n",
            "2  James McAvoy, Anya Taylor-Joy, Haley Lu Richar...  2016                117   \n",
            "3  Matthew McConaughey,Reese Witherspoon, Seth Ma...  2016                108   \n",
            "4  Will Smith, Jared Leto, Margot Robbie, Viola D...  2016                123   \n",
            "\n",
            "   Rating   Votes  Revenue (Millions)  Metascore  \n",
            "0     8.1  757074              333.13       76.0  \n",
            "1     7.0  485820              126.46       65.0  \n",
            "2     7.3  157606              138.12       62.0  \n",
            "3     7.2   60545              270.32       59.0  \n",
            "4     6.2  393727              325.02       40.0  \n",
            "\n",
            "Column names: Index(['Rank', 'Title', 'Genre', 'Description', 'Director', 'Actors', 'Year',\n",
            "       'Runtime (Minutes)', 'Rating', 'Votes', 'Revenue (Millions)',\n",
            "       'Metascore'],\n",
            "      dtype='object')\n",
            "\n",
            "Data types:\n",
            " Rank                    int64\n",
            "Title                  object\n",
            "Genre                  object\n",
            "Description            object\n",
            "Director               object\n",
            "Actors                 object\n",
            "Year                    int64\n",
            "Runtime (Minutes)       int64\n",
            "Rating                float64\n",
            "Votes                   int64\n",
            "Revenue (Millions)    float64\n",
            "Metascore             float64\n",
            "dtype: object\n",
            "\n",
            "Missing values:\n",
            " Rank                    0\n",
            "Title                   0\n",
            "Genre                   0\n",
            "Description             0\n",
            "Director                0\n",
            "Actors                  0\n",
            "Year                    0\n",
            "Runtime (Minutes)       0\n",
            "Rating                  0\n",
            "Votes                   0\n",
            "Revenue (Millions)    128\n",
            "Metascore              64\n",
            "dtype: int64\n"
          ]
        }
      ]
    },
    {
      "cell_type": "code",
      "source": [
        "print(\"\\nNumber of duplicate rows:\", data.duplicated().sum())"
      ],
      "metadata": {
        "colab": {
          "base_uri": "https://localhost:8080/"
        },
        "id": "JCEH9exysNIo",
        "outputId": "f5818904-4e29-4f23-ee2f-85eeb639665c"
      },
      "execution_count": 10,
      "outputs": [
        {
          "output_type": "stream",
          "name": "stdout",
          "text": [
            "\n",
            "Number of duplicate rows: 0\n"
          ]
        }
      ]
    },
    {
      "cell_type": "code",
      "source": [
        "data_cleaned = data.drop_duplicates()\n",
        "\n",
        "print(\"\\nShape of the cleaned dataset:\", data_cleaned.shape)"
      ],
      "metadata": {
        "colab": {
          "base_uri": "https://localhost:8080/"
        },
        "id": "zNkb-IVUuAW3",
        "outputId": "f2150ab7-1d49-4376-dccb-ae83bd1bc015"
      },
      "execution_count": 13,
      "outputs": [
        {
          "output_type": "stream",
          "name": "stdout",
          "text": [
            "\n",
            "Shape of the cleaned dataset: (1000, 12)\n"
          ]
        }
      ]
    },
    {
      "cell_type": "code",
      "source": [
        "data_cleaned.rename(columns={'Title': 'Movie_Title'}, inplace=True)\n"
      ],
      "metadata": {
        "id": "xx6skNmIuVxu"
      },
      "execution_count": 14,
      "outputs": []
    },
    {
      "cell_type": "code",
      "source": [
        "unique_genres = data_cleaned['Genre'].unique()\n",
        "print(\"\\nUnique Genres:\")\n",
        "print(unique_genres)"
      ],
      "metadata": {
        "colab": {
          "base_uri": "https://localhost:8080/"
        },
        "id": "2qJb_nCRupop",
        "outputId": "9ada8937-e444-4d75-8bbb-1613a8be6f60"
      },
      "execution_count": 15,
      "outputs": [
        {
          "output_type": "stream",
          "name": "stdout",
          "text": [
            "\n",
            "Unique Genres:\n",
            "['Action,Adventure,Sci-Fi' 'Adventure,Mystery,Sci-Fi' 'Horror,Thriller'\n",
            " 'Animation,Comedy,Family' 'Action,Adventure,Fantasy' 'Comedy,Drama,Music'\n",
            " 'Comedy' 'Action,Adventure,Biography' 'Adventure,Drama,Romance'\n",
            " 'Adventure,Family,Fantasy' 'Biography,Drama,History'\n",
            " 'Animation,Adventure,Comedy' 'Action,Comedy,Drama' 'Action,Thriller'\n",
            " 'Biography,Drama' 'Drama,Mystery,Sci-Fi' 'Adventure,Drama,Thriller'\n",
            " 'Drama' 'Crime,Drama,Horror' 'Action,Adventure,Drama' 'Drama,Thriller'\n",
            " 'Action,Adventure,Comedy' 'Action,Horror,Sci-Fi' 'Adventure,Drama,Sci-Fi'\n",
            " 'Action,Adventure,Western' 'Comedy,Drama' 'Horror'\n",
            " 'Adventure,Drama,Fantasy' 'Action,Crime,Thriller' 'Action,Crime,Drama'\n",
            " 'Adventure,Drama,History' 'Crime,Horror,Thriller' 'Drama,Romance'\n",
            " 'Comedy,Drama,Romance' 'Horror,Mystery,Thriller' 'Crime,Drama,Mystery'\n",
            " 'Drama,Romance,Thriller' 'Drama,History,Thriller' 'Action,Drama,Thriller'\n",
            " 'Drama,History' 'Action,Drama,Romance' 'Drama,Fantasy' 'Action,Sci-Fi'\n",
            " 'Adventure,Drama,War' 'Action,Comedy,Fantasy' 'Biography,Comedy,Crime'\n",
            " 'Crime,Drama' 'Comedy,Crime,Drama' 'Action,Comedy,Crime'\n",
            " 'Animation,Drama,Fantasy' 'Horror,Mystery,Sci-Fi'\n",
            " 'Drama,Mystery,Thriller' 'Crime,Drama,Thriller' 'Biography,Crime,Drama'\n",
            " 'Crime,Mystery,Thriller' 'Action,Horror,Thriller' 'Romance,Sci-Fi'\n",
            " 'Action,Fantasy,War' 'Action,Biography,Drama' 'Drama,Horror,Mystery'\n",
            " 'Adventure,Drama,Family' 'Adventure,Comedy,Romance' 'Action'\n",
            " 'Adventure,Crime,Mystery' 'Comedy,Family,Musical'\n",
            " 'Adventure,Comedy,Drama' 'Drama,Horror,Thriller' 'Drama,Music'\n",
            " 'Mystery,Thriller' 'Mystery,Thriller,Western' 'Comedy,Family'\n",
            " 'Biography,Comedy,Drama' 'Drama,Western' 'Drama,Mystery,Romance'\n",
            " 'Action,Drama,Mystery' 'Action,Adventure,Crime'\n",
            " 'Adventure,Sci-Fi,Thriller' 'Action,Comedy,Mystery' 'Thriller,War'\n",
            " 'Action,Adventure,Thriller' 'Drama,Fantasy,Romance'\n",
            " 'Action,Drama,History' 'Animation,Adventure,Family' 'Adventure,Horror'\n",
            " 'Drama,Romance,Sci-Fi' 'Action,Adventure,Family' 'Action,Comedy'\n",
            " 'Comedy,Romance' 'Horror,Mystery' 'Drama,Family,Fantasy' 'Sci-Fi'\n",
            " 'Drama,War' 'Drama,Fantasy,Horror' 'Crime,Drama,History'\n",
            " 'Horror,Sci-Fi,Thriller' 'Action,Drama,Sport' 'Adventure,Biography,Drama'\n",
            " 'Biography,Drama,Thriller' 'Action,Adventure,Mystery' 'Drama,Horror'\n",
            " 'Comedy,Crime' 'Drama,Fantasy,War' 'Action,Adventure,Romance'\n",
            " 'Action,Drama,War' 'Drama,Musical,Romance' 'Drama,Sci-Fi,Thriller'\n",
            " 'Action,Drama,Sci-Fi' 'Drama,Sci-Fi' 'Adventure,Fantasy' 'Thriller'\n",
            " 'Biography,Drama,Romance' 'Action,Adventure' 'Action,Fantasy'\n",
            " 'Action,Drama,Horror' 'Comedy,Music,Romance' 'Biography,Drama,Sport'\n",
            " 'Action,Horror' 'Comedy,Horror,Thriller' 'Crime,Drama,Music'\n",
            " 'Action,Sci-Fi,Thriller' 'Drama,Horror,Sci-Fi' 'Drama,Sport'\n",
            " 'Comedy,Horror' 'Comedy,Fantasy,Romance' 'Comedy,Fantasy'\n",
            " 'Comedy,Drama,Fantasy' 'Adventure,Comedy,Horror' 'Comedy,Mystery'\n",
            " 'Action,Mystery,Sci-Fi' 'Action,Crime,Fantasy' 'Comedy,Fantasy,Horror'\n",
            " 'Animation,Action,Adventure' 'Action,Comedy,Family' 'Comedy,Sci-Fi'\n",
            " 'Action,Biography,Crime' 'Adventure,Comedy' 'Comedy,Music'\n",
            " 'Comedy,Drama,Horror' 'Action,Horror,Romance' 'Action,Drama,Fantasy'\n",
            " 'Action,Mystery,Thriller' 'Action,Adventure,Horror'\n",
            " 'Animation,Family,Fantasy' 'Adventure,Horror,Mystery'\n",
            " 'Action,Horror,Mystery' 'Adventure,Comedy,Family' 'Action,Crime,Mystery'\n",
            " 'Comedy,Drama,Family' 'Action,Crime,Sport' 'Mystery,Sci-Fi,Thriller'\n",
            " 'Sci-Fi,Thriller' 'Adventure,Drama,Horror' 'Biography,History,Thriller'\n",
            " 'Adventure,Comedy,Sci-Fi' 'Fantasy,Horror' 'Action,Fantasy,Thriller'\n",
            " 'Comedy,Romance,Sport' 'Animation,Action,Comedy' 'Drama,Fantasy,Thriller'\n",
            " 'Action,Comedy,Romance' 'Action,Fantasy,Horror' 'Mystery,Romance,Sci-Fi'\n",
            " 'Comedy,Drama,Thriller' 'Comedy,Western' 'Drama,History,War'\n",
            " 'Fantasy,Horror,Thriller' 'Drama,Horror,Musical' 'Drama,Family'\n",
            " 'Romance,Sci-Fi,Thriller' 'Animation,Fantasy' 'Drama,Mystery,War'\n",
            " 'Action,Drama,Family' 'Adventure,Drama,Western' 'Drama,Music,Romance'\n",
            " 'Comedy,Romance,Western' 'Adventure,Drama' 'Drama,Thriller,War'\n",
            " 'Drama,Fantasy,Mystery' 'Comedy,Crime,Thriller' 'Animation,Comedy,Drama'\n",
            " 'Action,Comedy,Sci-Fi' 'Drama,Romance,War' 'Adventure,Fantasy,Mystery'\n",
            " 'Mystery,Romance,Thriller' 'Biography,Drama,Mystery'\n",
            " 'Animation,Drama,Romance' 'Comedy,Horror,Romance' 'Action,Thriller,War'\n",
            " 'Action,Comedy,Horror' 'Action,Crime,Sci-Fi' 'Crime,Thriller'\n",
            " 'Comedy,Horror,Sci-Fi' 'Crime,Drama,Fantasy' 'Drama,Fantasy,Music'\n",
            " 'Action,Comedy,Sport' 'Fantasy,Mystery,Thriller' 'Adventure'\n",
            " 'Adventure,Biography' 'Adventure,Biography,Crime' 'Comedy,Drama,Musical'\n",
            " 'Comedy,Family,Romance' 'Biography,Drama,Family' 'Drama,Fantasy,Musical'\n",
            " 'Adventure,Family' 'Adventure,Comedy,Fantasy' 'Drama,Family,Music'\n",
            " 'Comedy,Family,Fantasy']\n"
          ]
        }
      ]
    },
    {
      "cell_type": "code",
      "source": [
        "data_cleaned['Num_Genres'] = data_cleaned['Genre'].apply(lambda x: len(x.split(',')))"
      ],
      "metadata": {
        "id": "k3dbkYvcuzvv"
      },
      "execution_count": 23,
      "outputs": []
    },
    {
      "cell_type": "code",
      "source": [
        "\n",
        "print(data_cleaned.columns)\n"
      ],
      "metadata": {
        "colab": {
          "base_uri": "https://localhost:8080/"
        },
        "id": "C77FGBzYvI1E",
        "outputId": "1b42a827-c37e-4725-8236-061249d9e5f8"
      },
      "execution_count": 25,
      "outputs": [
        {
          "output_type": "stream",
          "name": "stdout",
          "text": [
            "Index(['Rank', 'Movie_Title', 'Genre', 'Description', 'Director', 'Actors',\n",
            "       'Year', 'Runtime (Minutes)', 'Rating', 'Votes', 'Revenue (Millions)',\n",
            "       'Metascore', 'Num_Genres'],\n",
            "      dtype='object')\n"
          ]
        }
      ]
    },
    {
      "cell_type": "code",
      "source": [
        "top_5_movies_by_rating = data_cleaned[['Movie_Title', 'Rating']].sort_values(by='Rating', ascending=False).head(5)\n",
        "print(\"\\nTop 5 movies by Rating:\")\n",
        "print(top_5_movies_by_rating)"
      ],
      "metadata": {
        "colab": {
          "base_uri": "https://localhost:8080/"
        },
        "id": "SfLwUBoHvc90",
        "outputId": "e27c5934-07d9-40e7-a2a6-29118c8d1867"
      },
      "execution_count": 26,
      "outputs": [
        {
          "output_type": "stream",
          "name": "stdout",
          "text": [
            "\n",
            "Top 5 movies by Rating:\n",
            "          Movie_Title  Rating\n",
            "54    The Dark Knight     9.0\n",
            "80          Inception     8.8\n",
            "117            Dangal     8.8\n",
            "36       Interstellar     8.6\n",
            "249  The Intouchables     8.6\n"
          ]
        }
      ]
    },
    {
      "cell_type": "code",
      "source": [
        "highest_revenue_movie = data_cleaned[['Movie_Title', 'Revenue (Millions)']].sort_values(by='Revenue (Millions)', ascending=False).head(1)\n",
        "lowest_revenue_movie = data_cleaned[['Movie_Title', 'Revenue (Millions)']].sort_values(by='Revenue (Millions)', ascending=True).head(1)\n",
        "print(\"\\nHighest revenue movie:\")\n",
        "print(highest_revenue_movie)\n",
        "print(\"\\nLowest revenue movie:\")\n",
        "print(lowest_revenue_movie)"
      ],
      "metadata": {
        "colab": {
          "base_uri": "https://localhost:8080/"
        },
        "id": "wsN0NPx07clU",
        "outputId": "f8c339d8-7989-4854-d987-66f97bf33a00"
      },
      "execution_count": 28,
      "outputs": [
        {
          "output_type": "stream",
          "name": "stdout",
          "text": [
            "\n",
            "Highest revenue movie:\n",
            "                                   Movie_Title  Revenue (Millions)\n",
            "50  Star Wars: Episode VII - The Force Awakens              936.63\n",
            "\n",
            "Lowest revenue movie:\n",
            "          Movie_Title  Revenue (Millions)\n",
            "231  A Kind of Murder                 0.0\n"
          ]
        }
      ]
    },
    {
      "cell_type": "code",
      "source": [
        "avg_rating_by_director = data_cleaned.groupby('Director')['Rating'].mean().reset_index()\n",
        "print(\"\\nAverage rating by Director:\")\n",
        "print(avg_rating_by_director)\n"
      ],
      "metadata": {
        "colab": {
          "base_uri": "https://localhost:8080/"
        },
        "id": "vROq3Mih7xYF",
        "outputId": "33c23c1c-c79d-4024-af35-5a7a6440bc92"
      },
      "execution_count": 29,
      "outputs": [
        {
          "output_type": "stream",
          "name": "stdout",
          "text": [
            "\n",
            "Average rating by Director:\n",
            "                Director  Rating\n",
            "0             Aamir Khan    8.50\n",
            "1    Abdellatif Kechiche    7.80\n",
            "2              Adam Leon    6.50\n",
            "3             Adam McKay    7.00\n",
            "4          Adam Shankman    6.30\n",
            "..                   ...     ...\n",
            "639         Xavier Dolan    7.55\n",
            "640          Yimou Zhang    6.10\n",
            "641     Yorgos Lanthimos    7.20\n",
            "642          Zack Snyder    7.04\n",
            "643        Zackary Adler    5.10\n",
            "\n",
            "[644 rows x 2 columns]\n"
          ]
        }
      ]
    },
    {
      "cell_type": "code",
      "source": [
        "movies_per_year = data_cleaned.groupby('Year')['Movie_Title'].count().reset_index()\n",
        "print(\"\\nMovies per Year:\")\n",
        "print(movies_per_year)\n"
      ],
      "metadata": {
        "colab": {
          "base_uri": "https://localhost:8080/"
        },
        "id": "ltbSd6F276jE",
        "outputId": "cb588ce5-3b90-4e3c-a275-cf2eb9118a8c"
      },
      "execution_count": 30,
      "outputs": [
        {
          "output_type": "stream",
          "name": "stdout",
          "text": [
            "\n",
            "Movies per Year:\n",
            "    Year  Movie_Title\n",
            "0   2006           44\n",
            "1   2007           53\n",
            "2   2008           52\n",
            "3   2009           51\n",
            "4   2010           60\n",
            "5   2011           63\n",
            "6   2012           64\n",
            "7   2013           91\n",
            "8   2014           98\n",
            "9   2015          127\n",
            "10  2016          297\n"
          ]
        }
      ]
    },
    {
      "cell_type": "code",
      "source": [
        "high_rating_high_revenue = data_cleaned[(data_cleaned['Rating'] > 8) & (data_cleaned['Revenue (Millions)'] > 100)]\n",
        "print(\"\\nMovies with Rating > 8 and Revenue > 100M:\")\n",
        "print(high_rating_high_revenue[['Movie_Title', 'Rating', 'Revenue (Millions)']])\n"
      ],
      "metadata": {
        "colab": {
          "base_uri": "https://localhost:8080/"
        },
        "id": "npK-3iAa8CZe",
        "outputId": "7b9308fd-dba1-4950-f610-09d93d6277eb"
      },
      "execution_count": 31,
      "outputs": [
        {
          "output_type": "stream",
          "name": "stdout",
          "text": [
            "\n",
            "Movies with Rating > 8 and Revenue > 100M:\n",
            "                                      Movie_Title  Rating  Revenue (Millions)\n",
            "0                         Guardians of the Galaxy     8.1              333.13\n",
            "6                                      La La Land     8.3              151.06\n",
            "36                                   Interstellar     8.6              187.99\n",
            "50     Star Wars: Episode VII - The Force Awakens     8.1              936.63\n",
            "54                                The Dark Knight     9.0              533.32\n",
            "67                             Mad Max: Fury Road     8.1              153.63\n",
            "74                                       Zootopia     8.1              341.26\n",
            "76                                   The Avengers     8.1              623.28\n",
            "77                           Inglourious Basterds     8.3              120.52\n",
            "80                                      Inception     8.8              292.57\n",
            "82                        The Wolf of Wall Street     8.2              116.87\n",
            "83                                      Gone Girl     8.1              167.74\n",
            "92                                       The Help     8.1              169.71\n",
            "99                                   The Departed     8.5              132.37\n",
            "114  Harry Potter and the Deathly Hallows: Part 2     8.1              380.96\n",
            "124                         The Dark Knight Rises     8.5              448.13\n",
            "138                                Shutter Island     8.1              127.97\n",
            "144                              Django Unchained     8.4              162.80\n",
            "241                                    Inside Out     8.2              356.45\n",
            "427                          The Bourne Ultimatum     8.1              227.14\n",
            "499                                            Up     8.3              292.98\n",
            "634                                        WALL·E     8.4              223.81\n",
            "645                                   Gran Torino     8.2              148.09\n",
            "688                                   Toy Story 3     8.3              414.98\n",
            "772                      How to Train Your Dragon     8.1              217.39\n"
          ]
        }
      ]
    },
    {
      "cell_type": "code",
      "source": [
        "group_by_director = data_cleaned.groupby('Director').agg({'Rating': 'mean', 'Revenue (Millions)': 'mean'}).reset_index()\n",
        "print(\"\\nAverage Rating and Revenue by Director:\")\n",
        "print(group_by_director)\n"
      ],
      "metadata": {
        "colab": {
          "base_uri": "https://localhost:8080/"
        },
        "id": "XH-n2SDF8sH5",
        "outputId": "47db0efc-f838-4614-8732-831119c9ef4b"
      },
      "execution_count": 32,
      "outputs": [
        {
          "output_type": "stream",
          "name": "stdout",
          "text": [
            "\n",
            "Average Rating and Revenue by Director:\n",
            "                Director  Rating  Revenue (Millions)\n",
            "0             Aamir Khan    8.50            1.200000\n",
            "1    Abdellatif Kechiche    7.80            2.200000\n",
            "2              Adam Leon    6.50           82.956376\n",
            "3             Adam McKay    7.00          109.535000\n",
            "4          Adam Shankman    6.30           78.665000\n",
            "..                   ...     ...                 ...\n",
            "639         Xavier Dolan    7.55           43.223188\n",
            "640          Yimou Zhang    6.10           45.130000\n",
            "641     Yorgos Lanthimos    7.20            4.405000\n",
            "642          Zack Snyder    7.04          195.148000\n",
            "643        Zackary Adler    5.10            6.530000\n",
            "\n",
            "[644 rows x 3 columns]\n"
          ]
        }
      ]
    },
    {
      "cell_type": "code",
      "source": [
        "group_by_year = data_cleaned.groupby('Year').agg({'Movie_Title': 'count', 'Rating': 'mean'}).reset_index()\n",
        "group_by_year.rename(columns={'Movie_Title': 'Movies_Count'}, inplace=True)\n",
        "print(\"\\nMovies count and average rating by Year:\")\n",
        "print(group_by_year)"
      ],
      "metadata": {
        "colab": {
          "base_uri": "https://localhost:8080/"
        },
        "id": "Vy1FyzSK8wAq",
        "outputId": "4cf30eca-5b97-48cb-f18e-89f9d9bb2e88"
      },
      "execution_count": 33,
      "outputs": [
        {
          "output_type": "stream",
          "name": "stdout",
          "text": [
            "\n",
            "Movies count and average rating by Year:\n",
            "    Year  Movies_Count    Rating\n",
            "0   2006            44  7.125000\n",
            "1   2007            53  7.133962\n",
            "2   2008            52  6.784615\n",
            "3   2009            51  6.960784\n",
            "4   2010            60  6.826667\n",
            "5   2011            63  6.838095\n",
            "6   2012            64  6.925000\n",
            "7   2013            91  6.812088\n",
            "8   2014            98  6.837755\n",
            "9   2015           127  6.602362\n",
            "10  2016           297  6.436700\n"
          ]
        }
      ]
    },
    {
      "cell_type": "code",
      "source": [
        "print(data_cleaned.columns)\n",
        "data_cleaned['Profitability'] = data_cleaned['Revenue (Millions)']"
      ],
      "metadata": {
        "colab": {
          "base_uri": "https://localhost:8080/"
        },
        "id": "WnpSn7DA84yy",
        "outputId": "88e2194d-a25f-4e76-c99c-670b312925be"
      },
      "execution_count": 43,
      "outputs": [
        {
          "output_type": "stream",
          "name": "stdout",
          "text": [
            "Index(['Rank', 'Movie_Title', 'Genre', 'Description', 'Director', 'Actors',\n",
            "       'Year', 'Runtime (Minutes)', 'Rating', 'Votes', 'Revenue (Millions)',\n",
            "       'Metascore', 'Num_Genres', 'Profitability'],\n",
            "      dtype='object')\n"
          ]
        }
      ]
    },
    {
      "cell_type": "code",
      "source": [
        "top_10_profitable = data_cleaned[['Movie_Title', 'Profitability']].sort_values(by='Profitability', ascending=False).head(10)\n",
        "print(\"\\nTop 10 Most Profitable Movies:\")\n",
        "print(top_10_profitable)"
      ],
      "metadata": {
        "colab": {
          "base_uri": "https://localhost:8080/"
        },
        "id": "U50AbKgE-ntp",
        "outputId": "989a5cb7-b3cc-4ccb-a660-a66471fd8f7c"
      },
      "execution_count": 44,
      "outputs": [
        {
          "output_type": "stream",
          "name": "stdout",
          "text": [
            "\n",
            "Top 10 Most Profitable Movies:\n",
            "                                    Movie_Title  Profitability\n",
            "50   Star Wars: Episode VII - The Force Awakens         936.63\n",
            "87                                       Avatar         760.51\n",
            "85                               Jurassic World         652.18\n",
            "76                                 The Avengers         623.28\n",
            "54                              The Dark Knight         533.32\n",
            "12                                    Rogue One         532.17\n",
            "119                                Finding Dory         486.29\n",
            "94                      Avengers: Age of Ultron         458.99\n",
            "124                       The Dark Knight Rises         448.13\n",
            "578             The Hunger Games: Catching Fire         424.65\n"
          ]
        }
      ]
    },
    {
      "cell_type": "code",
      "source": [
        "def categorize_by_rating(rating):\n",
        "    if rating >= 8:\n",
        "        return 'High'\n",
        "    elif rating >= 5:\n",
        "        return 'Medium'\n",
        "    else:\n",
        "        return 'Low'\n",
        "\n",
        "data_cleaned['Rating_Category'] = data_cleaned['Rating'].apply(categorize_by_rating)\n",
        "\n",
        "print(\"\\nFinal DataFrame with Rating Categories:\")\n",
        "print(data_cleaned[['Movie_Title', 'Rating', 'Rating_Category']].head())\n"
      ],
      "metadata": {
        "colab": {
          "base_uri": "https://localhost:8080/"
        },
        "id": "p0TplZQv-v5r",
        "outputId": "f56e34c5-e112-401a-e279-3cec688164ee"
      },
      "execution_count": 46,
      "outputs": [
        {
          "output_type": "stream",
          "name": "stdout",
          "text": [
            "\n",
            "Final DataFrame with Rating Categories:\n",
            "               Movie_Title  Rating Rating_Category\n",
            "0  Guardians of the Galaxy     8.1            High\n",
            "1               Prometheus     7.0          Medium\n",
            "2                    Split     7.3          Medium\n",
            "3                     Sing     7.2          Medium\n",
            "4            Suicide Squad     6.2          Medium\n"
          ]
        }
      ]
    },
    {
      "cell_type": "code",
      "source": [
        "def calculate_movie_score(row):\n",
        "    score = (row['Rating'] * 10) + row['Revenue (Millions)']\n",
        "    return score\n"
      ],
      "metadata": {
        "id": "3E5NnQpP_Oz5"
      },
      "execution_count": 47,
      "outputs": []
    },
    {
      "cell_type": "code",
      "source": [
        "data_cleaned['Movie_Score'] = data_cleaned.apply(calculate_movie_score, axis=1)"
      ],
      "metadata": {
        "id": "lk6gOWzi_fwI"
      },
      "execution_count": 48,
      "outputs": []
    },
    {
      "cell_type": "code",
      "source": [
        "print(\"\\nMovies with their Scores:\")\n",
        "print(data_cleaned[['Movie_Title', 'Rating', 'Revenue (Millions)', 'Movie_Score']].head())"
      ],
      "metadata": {
        "colab": {
          "base_uri": "https://localhost:8080/"
        },
        "id": "oyoJFFxu_mLA",
        "outputId": "60ba0414-c395-4dae-e950-82ec606769ce"
      },
      "execution_count": 49,
      "outputs": [
        {
          "output_type": "stream",
          "name": "stdout",
          "text": [
            "\n",
            "Movies with their Scores:\n",
            "               Movie_Title  Rating  Revenue (Millions)  Movie_Score\n",
            "0  Guardians of the Galaxy     8.1              333.13       414.13\n",
            "1               Prometheus     7.0              126.46       196.46\n",
            "2                    Split     7.3              138.12       211.12\n",
            "3                     Sing     7.2              270.32       342.32\n",
            "4            Suicide Squad     6.2              325.02       387.02\n"
          ]
        }
      ]
    }
  ]
}