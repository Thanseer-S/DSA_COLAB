{
  "nbformat": 4,
  "nbformat_minor": 0,
  "metadata": {
    "colab": {
      "provenance": [],
      "authorship_tag": "ABX9TyPv52XttYmFHzNrRPF4KRf5",
      "include_colab_link": true
    },
    "kernelspec": {
      "name": "python3",
      "display_name": "Python 3"
    },
    "language_info": {
      "name": "python"
    }
  },
  "cells": [
    {
      "cell_type": "markdown",
      "metadata": {
        "id": "view-in-github",
        "colab_type": "text"
      },
      "source": [
        "<a href=\"https://colab.research.google.com/github/Thanseer-S/DSA_COLAB/blob/main/THANSEER_NUMPY.ipynb\" target=\"_parent\"><img src=\"https://colab.research.google.com/assets/colab-badge.svg\" alt=\"Open In Colab\"/></a>"
      ]
    },
    {
      "cell_type": "code",
      "execution_count": null,
      "metadata": {
        "colab": {
          "base_uri": "https://localhost:8080/"
        },
        "id": "zwXOZiPz9qnZ",
        "outputId": "4d38ad43-b03a-4f3c-b764-0d24292881eb"
      },
      "outputs": [
        {
          "output_type": "stream",
          "name": "stdout",
          "text": [
            "Last Column:\n",
            "[19 29 39 49]\n"
          ]
        }
      ],
      "source": [
        "import numpy as np\n",
        "\n",
        "arr1 = np.arange(10, 50)\n",
        "\n",
        "arr1_reshaped = arr1.reshape(4, 10)\n",
        "\n",
        "last_column = arr1_reshaped[:, -1]\n",
        "\n",
        "print(\"Last Column:\")\n",
        "print(last_column)\n"
      ]
    },
    {
      "cell_type": "code",
      "source": [
        "matrix1 = np.full((3, 3), 5)\n",
        "\n",
        "matrix2 = np.arange(1, 10).reshape(3, 3)\n",
        "\n",
        "matrix_sum = matrix1 + matrix2\n",
        "\n",
        "matrix_product = matrix1 * matrix2\n",
        "\n",
        "matrix_transpose = matrix_product.T\n",
        "\n",
        "print(\"Matrix Sum:\")\n",
        "print(matrix_sum)\n",
        "print(\"\\nMatrix Product (Element-wise):\")\n",
        "print(matrix_product)\n",
        "print(\"\\nTranspose of the Product:\")\n",
        "print(matrix_transpose)\n"
      ],
      "metadata": {
        "colab": {
          "base_uri": "https://localhost:8080/"
        },
        "id": "4Rwg0bC4-k6T",
        "outputId": "60e886ad-abd2-4377-a66f-70c0a72ee8cf"
      },
      "execution_count": null,
      "outputs": [
        {
          "output_type": "stream",
          "name": "stdout",
          "text": [
            "Matrix Sum:\n",
            "[[ 6  7  8]\n",
            " [ 9 10 11]\n",
            " [12 13 14]]\n",
            "\n",
            "Matrix Product (Element-wise):\n",
            "[[ 5 10 15]\n",
            " [20 25 30]\n",
            " [35 40 45]]\n",
            "\n",
            "Transpose of the Product:\n",
            "[[ 5 20 35]\n",
            " [10 25 40]\n",
            " [15 30 45]]\n"
          ]
        }
      ]
    },
    {
      "cell_type": "code",
      "source": [
        "arr3 = np.random.randint(10, 101, size=15)\n",
        "\n",
        "replaced_values = np.sum(arr3 > 50)\n",
        "arr3[arr3 > 50] = -1\n",
        "\n",
        "print(\"Array after replacement:\")\n",
        "print(arr3)\n",
        "print(f\"\\nNumber of values replaced: {replaced_values}\")\n"
      ],
      "metadata": {
        "colab": {
          "base_uri": "https://localhost:8080/"
        },
        "id": "qNoeq2GX_MzS",
        "outputId": "15bd88f4-1648-4c07-a46c-58f42e09950a"
      },
      "execution_count": null,
      "outputs": [
        {
          "output_type": "stream",
          "name": "stdout",
          "text": [
            "Array after replacement:\n",
            "[29 37 -1 36 11 -1 -1 -1 35 -1 -1 45 -1 -1 37]\n",
            "\n",
            "Number of values replaced: 8\n"
          ]
        }
      ]
    },
    {
      "cell_type": "code",
      "source": [
        "arr4 = np.random.rand(5, 4)\n",
        "\n",
        "row_max_sum = np.argmax(arr4.sum(axis=1))\n",
        "\n",
        "arr4_normalized = arr4 / arr4.sum(axis=1)[:, None]\n",
        "\n",
        "print(\"Array with Normalized Rows:\")\n",
        "print(arr4_normalized)\n",
        "print(f\"\\nRow with maximum sum of values: {row_max_sum}\")\n"
      ],
      "metadata": {
        "colab": {
          "base_uri": "https://localhost:8080/"
        },
        "id": "nmPzsIIy_UUJ",
        "outputId": "ad02a884-4c88-4df6-817a-01b3c46a344b"
      },
      "execution_count": null,
      "outputs": [
        {
          "output_type": "stream",
          "name": "stdout",
          "text": [
            "Array with Normalized Rows:\n",
            "[[0.08642946 0.35516011 0.36858292 0.18982751]\n",
            " [0.02199967 0.44936712 0.22511372 0.30351949]\n",
            " [0.42274061 0.40008155 0.08220073 0.09497711]\n",
            " [0.17014129 0.15186291 0.35444624 0.32354955]\n",
            " [0.06477234 0.35842828 0.29234603 0.28445336]]\n",
            "\n",
            "Row with maximum sum of values: 3\n"
          ]
        }
      ]
    },
    {
      "cell_type": "code",
      "source": [
        "import numpy as np\n",
        "\n",
        "arr5 = np.array([1, 3, 5, 3, 7, 9, 1, 5, 5])\n",
        "\n",
        "unique_elements = np.unique(arr5)\n",
        "\n",
        "values, counts = np.unique(arr5, return_counts=True)\n",
        "duplicates = values[counts > 1]\n",
        "\n",
        "print(\"Unique Elements:\")\n",
        "print(unique_elements)\n",
        "\n",
        "print(\"\\nDuplicates:\")\n",
        "print(duplicates)\n"
      ],
      "metadata": {
        "colab": {
          "base_uri": "https://localhost:8080/"
        },
        "id": "q1kYVqn3_cyu",
        "outputId": "d7ebd04e-fae5-4a78-a1a0-6c1f028df272"
      },
      "execution_count": null,
      "outputs": [
        {
          "output_type": "stream",
          "name": "stdout",
          "text": [
            "Unique Elements:\n",
            "[1 3 5 7 9]\n",
            "\n",
            "Duplicates:\n",
            "[1 3 5]\n"
          ]
        }
      ]
    },
    {
      "cell_type": "code",
      "source": [
        "arr6 = np.arange(1, 37).reshape(6, 6)\n",
        "\n",
        "submatrix = arr6[1:5, 1:5]\n",
        "\n",
        "even_numbers = submatrix[submatrix % 2 == 0]\n",
        "\n",
        "print(\"Submatrix:\")\n",
        "print(submatrix)\n",
        "print(\"\\nEven numbers from submatrix:\")\n",
        "print(even_numbers)\n"
      ],
      "metadata": {
        "colab": {
          "base_uri": "https://localhost:8080/"
        },
        "id": "KkymOrZGAKIt",
        "outputId": "59ad79ae-ff9f-4b87-f71b-ea52b5efbce8"
      },
      "execution_count": null,
      "outputs": [
        {
          "output_type": "stream",
          "name": "stdout",
          "text": [
            "Submatrix:\n",
            "[[ 8  9 10 11]\n",
            " [14 15 16 17]\n",
            " [20 21 22 23]\n",
            " [26 27 28 29]]\n",
            "\n",
            "Even numbers from submatrix:\n",
            "[ 8 10 14 16 20 22 26 28]\n"
          ]
        }
      ]
    },
    {
      "cell_type": "code",
      "source": [
        "arr7 = np.arange(12).reshape(3, 4)\n",
        "\n",
        "arr7_reshaped = arr7.reshape(2, 6)\n",
        "\n",
        "arr7_flat = arr7.flatten()\n",
        "\n",
        "arr7_final = arr7_flat.reshape(4, 3)\n",
        "\n",
        "print(\"Final reshaped array (4, 3):\")\n",
        "print(arr7_final)\n"
      ],
      "metadata": {
        "colab": {
          "base_uri": "https://localhost:8080/"
        },
        "id": "VjGKDBDkAVcw",
        "outputId": "a17e51db-7d0e-4546-97a6-fd48f371fc55"
      },
      "execution_count": null,
      "outputs": [
        {
          "output_type": "stream",
          "name": "stdout",
          "text": [
            "Final reshaped array (4, 3):\n",
            "[[ 0  1  2]\n",
            " [ 3  4  5]\n",
            " [ 6  7  8]\n",
            " [ 9 10 11]]\n"
          ]
        }
      ]
    },
    {
      "cell_type": "code",
      "source": [
        "a = np.array([[1, 2], [3, 4]])\n",
        "\n",
        "a_new_row = np.append(a, [[5, 6]], axis=0)\n",
        "\n",
        "a_final = np.append(a_new_row, [[7], [8], [9]], axis=1)\n",
        "\n",
        "print(\"Final array with new row and column:\")\n",
        "print(a_final)\n"
      ],
      "metadata": {
        "colab": {
          "base_uri": "https://localhost:8080/"
        },
        "id": "szMz_XpBAf0y",
        "outputId": "163a8ad6-f7e7-49c4-a6c2-ee02020fbac5"
      },
      "execution_count": null,
      "outputs": [
        {
          "output_type": "stream",
          "name": "stdout",
          "text": [
            "Final array with new row and column:\n",
            "[[1 2 7]\n",
            " [3 4 8]\n",
            " [5 6 9]]\n"
          ]
        }
      ]
    },
    {
      "cell_type": "code",
      "source": [
        "\n",
        "a = np.array([1, 2, 3])\n",
        "b = np.array([4, 5, 6])\n",
        "c = np.array([7, 8, 9])\n",
        "\n",
        "joined_array = np.concatenate((a, b, c))\n",
        "\n",
        "reshaped_matrix = joined_array.reshape(3, 3)\n",
        "\n",
        "diagonal_elements = np.diag(reshaped_matrix)\n",
        "\n",
        "print(\"Joined array:\")\n",
        "print(joined_array)\n",
        "print(\"\\nReshaped matrix:\")\n",
        "print(reshaped_matrix)\n",
        "print(\"\\nDiagonal elements:\")\n",
        "print(diagonal_elements)\n"
      ],
      "metadata": {
        "colab": {
          "base_uri": "https://localhost:8080/"
        },
        "id": "pJdzbkswAmkn",
        "outputId": "70b0181a-8c76-4507-ce1c-9d2d53beb718"
      },
      "execution_count": null,
      "outputs": [
        {
          "output_type": "stream",
          "name": "stdout",
          "text": [
            "Joined array:\n",
            "[1 2 3 4 5 6 7 8 9]\n",
            "\n",
            "Reshaped matrix:\n",
            "[[1 2 3]\n",
            " [4 5 6]\n",
            " [7 8 9]]\n",
            "\n",
            "Diagonal elements:\n",
            "[1 5 9]\n"
          ]
        }
      ]
    },
    {
      "cell_type": "code",
      "source": [
        "arr10 = np.arange(1, 21)\n",
        "\n",
        "divisible_by_3_or_5 = arr10[(arr10 % 3 == 0) | (arr10 % 5 == 0)]\n",
        "\n",
        "count = len(divisible_by_3_or_5)\n",
        "\n",
        "print(\"Values divisible by 3 or 5:\")\n",
        "print(divisible_by_3_or_5)\n",
        "print(f\"\\nCount: {count}\")\n"
      ],
      "metadata": {
        "colab": {
          "base_uri": "https://localhost:8080/"
        },
        "id": "s0uEBI1fAvOV",
        "outputId": "0daa52a6-eafa-462c-b9d8-6feded5583d1"
      },
      "execution_count": null,
      "outputs": [
        {
          "output_type": "stream",
          "name": "stdout",
          "text": [
            "Values divisible by 3 or 5:\n",
            "[ 3  5  6  9 10 12 15 18 20]\n",
            "\n",
            "Count: 9\n"
          ]
        }
      ]
    }
  ]
}