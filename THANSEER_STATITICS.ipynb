{
  "nbformat": 4,
  "nbformat_minor": 0,
  "metadata": {
    "colab": {
      "provenance": [],
      "authorship_tag": "ABX9TyNiXNQCJR9ssBw6hlDc1+AP",
      "include_colab_link": true
    },
    "kernelspec": {
      "name": "python3",
      "display_name": "Python 3"
    },
    "language_info": {
      "name": "python"
    }
  },
  "cells": [
    {
      "cell_type": "markdown",
      "metadata": {
        "id": "view-in-github",
        "colab_type": "text"
      },
      "source": [
        "<a href=\"https://colab.research.google.com/github/Thanseer-S/DSA_COLAB/blob/main/THANSEER_STATITICS.ipynb\" target=\"_parent\"><img src=\"https://colab.research.google.com/assets/colab-badge.svg\" alt=\"Open In Colab\"/></a>"
      ]
    },
    {
      "cell_type": "markdown",
      "source": [
        " # 1. Dataset: Monthly temperatures in a city (in °C): 12, 15, 14, 16, 18, 20, 22, 19,\n",
        " ## 17, 15, 13, 10 Questions:\n",
        " ### a) Calculate the mean temperature.\n",
        " ### b) Calculate the median temperature.\n",
        " ### c) Find the mode of the temperature data.\n",
        " ### d) Range and Variance"
      ],
      "metadata": {
        "id": "z4T_hc-lodbm"
      }
    },
    {
      "cell_type": "code",
      "source": [
        " temperatures = [12, 15, 14, 16, 18, 20, 22, 19, 17, 15, 13, 10]\n",
        "\n",
        "import statistics\n",
        "\n",
        "mean_temp = statistics.mean(temperatures)\n",
        "\n",
        "median_temp = statistics.median(temperatures)\n",
        "\n",
        "mode_temp = statistics.mode(temperatures)\n",
        "\n",
        "range_temp = max(temperatures) - min(temperatures)\n",
        "variance_temp = statistics.variance(temperatures)\n",
        "\n",
        "print(\"Mean Temperature:\", mean_temp)\n",
        "print(\"Median Temperature:\", median_temp)\n",
        "print(\"Mode Temperature:\", mode_temp)\n",
        "print(\"Range of Temperatures:\", range_temp)\n",
        "print(\"Variance of Temperatures:\", variance_temp)"
      ],
      "metadata": {
        "colab": {
          "base_uri": "https://localhost:8080/"
        },
        "id": "MT7v6ldVobHS",
        "outputId": "0568fbbe-ad8c-496e-e730-bfc5182c0daa"
      },
      "execution_count": null,
      "outputs": [
        {
          "output_type": "stream",
          "name": "stdout",
          "text": [
            "Mean Temperature: 15.916666666666666\n",
            "Median Temperature: 15.5\n",
            "Mode Temperature: 15\n",
            "Range of Temperatures: 12\n",
            "Variance of Temperatures: 12.083333333333334\n"
          ]
        }
      ]
    },
    {
      "cell_type": "markdown",
      "source": [],
      "metadata": {
        "id": "7ewQGvrnuKH9"
      }
    },
    {
      "cell_type": "markdown",
      "source": [
        "# 2. Dataset: Heights of students (in cm): 150, 160, 165, 170, 155, 160, 162, 168\n",
        "# a) Calculate the range of the heights.\n",
        "# b) Calculate the variance of the heights.\n",
        "# c) Standard Deviation"
      ],
      "metadata": {
        "id": "-YwiYQNmxgMu"
      }
    },
    {
      "cell_type": "code",
      "execution_count": 1,
      "metadata": {
        "id": "Nl1gfQQGnokd",
        "colab": {
          "base_uri": "https://localhost:8080/"
        },
        "outputId": "3d4d8f3b-6c58-484e-ef36-71b096490107"
      },
      "outputs": [
        {
          "output_type": "stream",
          "name": "stdout",
          "text": [
            "Heights: [150, 160, 165, 170, 155, 160, 162, 168]\n",
            "Range: 20\n",
            "Mean: 161.25\n",
            "Variance: 43.64\n",
            "Standard Deviation: 6.61\n"
          ]
        }
      ],
      "source": [
        "heights = [150, 160, 165, 170, 155, 160, 162, 168]\n",
        "\n",
        "range_heights = max(heights) - min(heights)\n",
        "\n",
        "mean_height = sum(heights) / len(heights)\n",
        "squared_diffs = [(x - mean_height) ** 2 for x in heights]\n",
        "variance = sum(squared_diffs) / (len(heights) - 1)\n",
        "\n",
        "std_deviation = variance ** 0.5\n",
        "\n",
        "print(\"Heights:\", heights)\n",
        "print(\"Range:\", range_heights)\n",
        "print(\"Mean:\", round(mean_height, 2))\n",
        "print(\"Variance:\", round(variance, 2))\n",
        "print(\"Standard Deviation:\", round(std_deviation, 2))\n"
      ]
    },
    {
      "cell_type": "markdown",
      "source": [
        "# 3. Dataset: Weekly expenses (in $): 200, 250, 300, 220, 270, 290, 310\n",
        "## a) Calculate the standard deviation of the weekly expenses."
      ],
      "metadata": {
        "id": "XywgrJmm0Lv8"
      }
    },
    {
      "cell_type": "code",
      "source": [
        "expenses = [200, 250, 300, 220, 270, 290, 310]\n",
        "\n",
        "mean_expense = sum(expenses) / len(expenses)\n",
        "\n",
        "squared_diffs = [(x - mean_expense) ** 2 for x in expenses]\n",
        "\n",
        "variance = sum(squared_diffs) / (len(expenses) - 1)\n",
        "\n",
        "std_deviation = variance ** 0.5\n",
        "\n",
        "print(\"Weekly Expenses:\", expenses)\n",
        "print(\"Mean:\", round(mean_expense, 2))\n",
        "print(\"Variance:\", round(variance, 2))\n",
        "print(\"Standard Deviation:\", round(std_deviation, 2))\n"
      ],
      "metadata": {
        "colab": {
          "base_uri": "https://localhost:8080/"
        },
        "id": "2_RGg2xk0Dt-",
        "outputId": "d5ae4480-7c04-4722-e5a4-201162b2f8a5"
      },
      "execution_count": 2,
      "outputs": [
        {
          "output_type": "stream",
          "name": "stdout",
          "text": [
            "Weekly Expenses: [200, 250, 300, 220, 270, 290, 310]\n",
            "Mean: 262.86\n",
            "Variance: 1723.81\n",
            "Standard Deviation: 41.52\n"
          ]
        }
      ]
    },
    {
      "cell_type": "markdown",
      "source": [
        "# 4. Dataset: Advertising Spending (in $1000s): 10, 20, 15, 25, 30; Sales (in$1000s): 100, 150, 120, 180, 200\n",
        "### a) Calculate the covariance between advertising spending and sales.\n",
        "### b) Correlation"
      ],
      "metadata": {
        "id": "07E76j2J0s_7"
      }
    },
    {
      "cell_type": "code",
      "source": [
        "import numpy as np\n",
        "\n",
        "advertising_spending = np.array([10, 20, 15, 25, 30])\n",
        "sales = np.array([100, 150, 120, 180, 200])\n",
        "\n",
        "covariance = np.cov(advertising_spending, sales)[0, 1]\n",
        "\n",
        "correlation = np.corrcoef(advertising_spending, sales)[0, 1]\n",
        "\n",
        "print(\"Covariance:\", round(covariance, 2))\n",
        "print(\"Correlation:\", round(correlation, 2))\n"
      ],
      "metadata": {
        "colab": {
          "base_uri": "https://localhost:8080/"
        },
        "id": "fUsFyvlc0rwL",
        "outputId": "ab6595c0-7e96-48ab-c529-7557699daaa8"
      },
      "execution_count": 3,
      "outputs": [
        {
          "output_type": "stream",
          "name": "stdout",
          "text": [
            "Covariance: 325.0\n",
            "Correlation: 1.0\n"
          ]
        }
      ]
    },
    {
      "cell_type": "markdown",
      "source": [
        "#5. Dataset: Study Hours: 2, 4, 6, 8, 10; Exam Scores: 55, 60, 65, 70, 75\n",
        "### a) Calculate the correlation coefficient between study hours and exam scores.\n",
        "### b) Interpret the result.\n",
        "### c) Quartiles and IQR"
      ],
      "metadata": {
        "id": "je6ILvz52wkR"
      }
    },
    {
      "cell_type": "code",
      "source": [
        "import numpy as np\n",
        "\n",
        "study_hours = np.array([2, 4, 6, 8, 10])\n",
        "exam_scores = np.array([55, 60, 65, 70, 75])\n",
        "\n",
        "correlation = np.corrcoef(study_hours, exam_scores)[0, 1]\n",
        "\n",
        "quartiles = np.percentile(study_hours, [25, 50, 75])\n",
        "IQR = quartiles[2] - quartiles[0]\n",
        "\n",
        "print(\"Correlation Coefficient:\", round(correlation, 2))\n",
        "print(\"Quartiles for Study Hours:\", quartiles)\n",
        "print(\"IQR (Interquartile Range) for Study Hours:\", IQR)"
      ],
      "metadata": {
        "colab": {
          "base_uri": "https://localhost:8080/"
        },
        "id": "T37aPl7R2Ztn",
        "outputId": "676434f9-235d-4e75-d3cd-966cdd9fd957"
      },
      "execution_count": 4,
      "outputs": [
        {
          "output_type": "stream",
          "name": "stdout",
          "text": [
            "Correlation Coefficient: 1.0\n",
            "Quartiles for Study Hours: [4. 6. 8.]\n",
            "IQR (Interquartile Range) for Study Hours: 4.0\n"
          ]
        }
      ]
    },
    {
      "cell_type": "markdown",
      "source": [
        "# 6. Dataset: Monthly savings (in $): 200, 300, 400, 500, 600, 700, 800, 900, 1000,1100\n",
        "### a) Calculate the first quartile (Q1) and third quartile(Q3).\n",
        "### b) Calculate the interquartile range (IQR).\n",
        "### c) Detecting Outliers"
      ],
      "metadata": {
        "id": "4t5eeXo5430F"
      }
    },
    {
      "cell_type": "code",
      "source": [
        "import numpy as np\n",
        "\n",
        "savings = np.array([200, 300, 400, 500, 600, 700, 800, 900, 1000, 1100])\n",
        "\n",
        "Q1 = np.percentile(savings, 25)\n",
        "Q3 = np.percentile(savings, 75)\n",
        "\n",
        "IQR = Q3 - Q1\n",
        "\n",
        "lower_bound = Q1 - 1.5 * IQR\n",
        "upper_bound = Q3 + 1.5 * IQR\n",
        "\n",
        "outliers = savings[(savings < lower_bound) | (savings > upper_bound)]\n",
        "\n",
        "print(\"First Quartile (Q1):\", Q1)\n",
        "print(\"Third Quartile (Q3):\", Q3)\n",
        "print(\"Interquartile Range (IQR):\", IQR)\n",
        "print(\"Outliers:\", outliers)\n"
      ],
      "metadata": {
        "colab": {
          "base_uri": "https://localhost:8080/"
        },
        "id": "Ea7Ow7S742av",
        "outputId": "5d1be204-a86d-4061-eca7-5e564e1b5798"
      },
      "execution_count": 5,
      "outputs": [
        {
          "output_type": "stream",
          "name": "stdout",
          "text": [
            "First Quartile (Q1): 425.0\n",
            "Third Quartile (Q3): 875.0\n",
            "Interquartile Range (IQR): 450.0\n",
            "Outliers: []\n"
          ]
        }
      ]
    },
    {
      "cell_type": "markdown",
      "source": [
        "#7. Dataset: Ages of employees: 22, 25, 28, 30, 35, 40, 45, 50, 55, 100\n",
        "### a) Identify any outliers using the IQR method."
      ],
      "metadata": {
        "id": "I9TQv0xeDPVY"
      }
    },
    {
      "cell_type": "code",
      "source": [
        "import numpy as np\n",
        "\n",
        "ages = np.array([22, 25, 28, 30, 35, 40, 45, 50, 55, 100])\n",
        "\n",
        "Q1 = np.percentile(ages, 25)\n",
        "Q3 = np.percentile(ages, 75)\n",
        "\n",
        "IQR = Q3 - Q1\n",
        "\n",
        "lower_bound = Q1 - 1.5 * IQR\n",
        "upper_bound = Q3 + 1.5 * IQR\n",
        "\n",
        "outliers = ages[(ages < lower_bound) | (ages > upper_bound)]\n",
        "\n",
        "print(\"First Quartile (Q1):\", Q1)\n",
        "print(\"Third Quartile (Q3):\", Q3)\n",
        "print(\"Interquartile Range (IQR):\", IQR)\n",
        "print(\"Lower Bound:\", lower_bound)\n",
        "print(\"Upper Bound:\", upper_bound)\n",
        "print(\"Outliers:\", outliers)\n"
      ],
      "metadata": {
        "colab": {
          "base_uri": "https://localhost:8080/"
        },
        "id": "kh2EOh8Q6LLh",
        "outputId": "f5674082-752e-4e24-cac6-db1db40c0b12"
      },
      "execution_count": 6,
      "outputs": [
        {
          "output_type": "stream",
          "name": "stdout",
          "text": [
            "First Quartile (Q1): 28.5\n",
            "Third Quartile (Q3): 48.75\n",
            "Interquartile Range (IQR): 20.25\n",
            "Lower Bound: -1.875\n",
            "Upper Bound: 79.125\n",
            "Outliers: [100]\n"
          ]
        }
      ]
    },
    {
      "cell_type": "markdown",
      "source": [
        "# 8. Dataset: Observed frequencies of customer preferences for three products:\n",
        "# Product A: 50, 55, 60\n",
        "# Product B: 30, 25, 35\n",
        "# Product C: 20, 20, 25\n",
        "# a) Perform a chi-square test to determine if there is a significant difference in customer preferences among the three products. b) Hypothesis Testing"
      ],
      "metadata": {
        "id": "L9E24tpxFe5P"
      }
    },
    {
      "cell_type": "code",
      "source": [
        "import numpy as np\n",
        "from scipy.stats import chi2_contingency\n",
        "\n",
        "observed = np.array([[50, 55, 60],\n",
        "                     [30, 25, 35],\n",
        "                     [20, 20, 25]])\n",
        "\n",
        "chi2_stat, p_val, dof, expected = chi2_contingency(observed)\n",
        "\n",
        "print(\"Chi-Square Statistic:\", chi2_stat)\n",
        "print(\"P-Value:\", p_val)\n",
        "print(\"Degrees of Freedom:\", dof)\n",
        "print(\"Expected Frequencies:\\n\", expected)\n",
        "\n",
        "alpha = 0.05\n",
        "if p_val < alpha:\n",
        "    print(\"\\nReject the null hypothesis: There is a significant difference in customer preferences.\")\n",
        "else:\n",
        "    print(\"\\nFail to reject the null hypothesis: There is no significant difference in customer preferences.\")\n"
      ],
      "metadata": {
        "colab": {
          "base_uri": "https://localhost:8080/"
        },
        "id": "5m89I9ZvEGuO",
        "outputId": "d69e2a2a-69a2-43b0-8184-a95f3c770e1f"
      },
      "execution_count": 7,
      "outputs": [
        {
          "output_type": "stream",
          "name": "stdout",
          "text": [
            "Chi-Square Statistic: 0.8774928774928774\n",
            "P-Value: 0.9277673918614506\n",
            "Degrees of Freedom: 4\n",
            "Expected Frequencies:\n",
            " [[51.5625 51.5625 61.875 ]\n",
            " [28.125  28.125  33.75  ]\n",
            " [20.3125 20.3125 24.375 ]]\n",
            "\n",
            "Fail to reject the null hypothesis: There is no significant difference in customer preferences.\n"
          ]
        }
      ]
    },
    {
      "cell_type": "markdown",
      "source": [
        "# 9. Dataset: Sample weights (in kg) of a new diet program: 70, 68, 72, 71, 69, 73,72, 74, 70, 71\n",
        "## a) Test the hypothesis that the mean weight after the diet program is equal to 70 kg at a 5% significance level.\n",
        "## b) Z-Scores"
      ],
      "metadata": {
        "id": "P5-Mepy2G417"
      }
    },
    {
      "cell_type": "code",
      "source": [
        "import numpy as np\n",
        "from scipy import stats\n",
        "\n",
        "weights = np.array([70, 68, 72, 71, 69, 73, 72, 74, 70, 71])\n",
        "\n",
        "sample_mean = np.mean(weights)\n",
        "sample_std = np.std(weights, ddof=1)\n",
        "n = len(weights)\n",
        "population_mean = 70\n",
        "\n",
        "t_stat, p_value = stats.ttest_1samp(weights, population_mean)\n",
        "\n",
        "print(\"Sample Mean:\", sample_mean)\n",
        "print(\"Sample Standard Deviation:\", sample_std)\n",
        "print(\"T-Statistic:\", t_stat)\n",
        "print(\"P-Value:\", p_value)\n",
        "\n",
        "alpha = 0.05\n",
        "if p_value < alpha:\n",
        "    print(\"\\nReject the null hypothesis: The mean weight is significantly different from 70 kg.\")\n",
        "else:\n",
        "    print(\"\\nFail to reject the null hypothesis: The mean weight is not significantly different from 70 kg.\")\n",
        "\n",
        "z_scores = (weights - sample_mean) / sample_std\n",
        "print(\"\\nZ-Scores for each weight:\", z_scores)\n"
      ],
      "metadata": {
        "colab": {
          "base_uri": "https://localhost:8080/"
        },
        "id": "gycOKTvTG0vj",
        "outputId": "172d7f91-9184-4d12-9fee-703399375555"
      },
      "execution_count": 8,
      "outputs": [
        {
          "output_type": "stream",
          "name": "stdout",
          "text": [
            "Sample Mean: 71.0\n",
            "Sample Standard Deviation: 1.8257418583505538\n",
            "T-Statistic: 1.732050807568877\n",
            "P-Value: 0.11730680301423822\n",
            "\n",
            "Fail to reject the null hypothesis: The mean weight is not significantly different from 70 kg.\n",
            "\n",
            "Z-Scores for each weight: [-0.54772256 -1.64316767  0.54772256  0.         -1.09544512  1.09544512\n",
            "  0.54772256  1.64316767 -0.54772256  0.        ]\n"
          ]
        }
      ]
    },
    {
      "cell_type": "markdown",
      "source": [
        "# 10. Dataset: Annual salaries of employees (in $1000s): 40, 42, 45, 47, 50, 52, 57, 60, 62\n",
        "### a) Calculate the z-scores for each salary.\n",
        "### b) Interpret the z-scores.\n",
        "### c) Normal Distribution"
      ],
      "metadata": {
        "id": "IYqEeT7fIEsu"
      }
    },
    {
      "cell_type": "code",
      "source": [
        "import numpy as np\n",
        "import matplotlib.pyplot as plt\n",
        "import scipy.stats as stats\n",
        "\n",
        "salaries = np.array([40, 42, 45, 47, 50, 52, 55, 57, 60, 62])\n",
        "\n",
        "\n",
        "mean_salary = np.mean(salaries)\n",
        "std_salary = np.std(salaries, ddof=1)\n",
        "\n",
        "z_scores = (salaries - mean_salary) / std_salary\n",
        "\n",
        "print(\"Z-Scores for each salary:\", z_scores)\n",
        "\n",
        "print(\"\\nInterpretation of Z-scores:\")\n",
        "for i, z in enumerate(z_scores):\n",
        "    if z > 0:\n",
        "        print(f\"Salary {salaries[i]}: Z-score = {z:.2f} -> Above the mean\")\n",
        "    elif z < 0:\n",
        "        print(f\"Salary {salaries[i]}: Z-score = {z:.2f} -> Below the mean\")\n",
        "    else:\n",
        "        print(f\"Salary {salaries[i]}: Z-score = {z:.2f} -> Equal to the mean\")\n",
        "\n",
        "plt.figure(figsize=(10, 6))\n",
        "plt.hist(salaries, bins=5, alpha=0.7, color='skyblue', edgecolor='black')\n",
        "plt.title(\"Histogram of Salaries\")\n",
        "plt.xlabel(\"Salary ($1000s)\")\n",
        "plt.ylabel(\"Frequency\")\n",
        "plt.show()\n",
        "\n",
        "plt.figure(figsize=(10, 6))\n",
        "stats.probplot(salaries, dist=\"norm\", plot=plt)\n",
        "plt.title(\"Probability Plot for Normal Distribution\")\n",
        "plt.show()\n"
      ],
      "metadata": {
        "colab": {
          "base_uri": "https://localhost:8080/",
          "height": 1000
        },
        "id": "Io8xf_yTID8W",
        "outputId": "c5a9ff10-3f2b-44e8-eb3f-9d37275ec06c"
      },
      "execution_count": 9,
      "outputs": [
        {
          "output_type": "stream",
          "name": "stdout",
          "text": [
            "Z-Scores for each salary: [-1.46126456 -1.1955801  -0.7970534  -0.53136893 -0.13284223  0.13284223\n",
            "  0.53136893  0.7970534   1.1955801   1.46126456]\n",
            "\n",
            "Interpretation of Z-scores:\n",
            "Salary 40: Z-score = -1.46 -> Below the mean\n",
            "Salary 42: Z-score = -1.20 -> Below the mean\n",
            "Salary 45: Z-score = -0.80 -> Below the mean\n",
            "Salary 47: Z-score = -0.53 -> Below the mean\n",
            "Salary 50: Z-score = -0.13 -> Below the mean\n",
            "Salary 52: Z-score = 0.13 -> Above the mean\n",
            "Salary 55: Z-score = 0.53 -> Above the mean\n",
            "Salary 57: Z-score = 0.80 -> Above the mean\n",
            "Salary 60: Z-score = 1.20 -> Above the mean\n",
            "Salary 62: Z-score = 1.46 -> Above the mean\n"
          ]
        },
        {
          "output_type": "display_data",
          "data": {
            "text/plain": [
              "<Figure size 1000x600 with 1 Axes>"
            ],
            "image/png": "[encoded data removed]"
          },
          "metadata": {}
        },
        {
          "output_type": "display_data",
          "data": {
            "text/plain": [
              "<Figure size 1000x600 with 1 Axes>"
            ],
            "image/png": "[encoded data removed]"
          },
          "metadata": {}
        }
      ]
    },
    {
      "cell_type": "markdown",
      "source": [
        "#11. . Dataset: Scores of students in a standardized test: 85, 87, 90, 92, 95, 97,100, 102, 105, 107\n",
        "### a) Create a histogram of the test scores.\n",
        "### b) Fit a normal distribution to the data and calculate the mean and standard deviation.\n",
        "### c) P-Values"
      ],
      "metadata": {
        "id": "fD0ZGzjgJqWc"
      }
    },
    {
      "cell_type": "code",
      "source": [
        "import numpy as np\n",
        "import matplotlib.pyplot as plt\n",
        "import scipy.stats as stats\n",
        "\n",
        "test_scores = np.array([85, 87, 90, 92, 95, 97, 100, 102, 105, 107])\n",
        "\n",
        "plt.figure(figsize=(10, 6))\n",
        "plt.hist(test_scores, bins=5, alpha=0.7, color='skyblue', edgecolor='black')\n",
        "plt.title(\"Histogram of Test Scores\")\n",
        "plt.xlabel(\"Test Score\")\n",
        "plt.ylabel(\"Frequency\")\n",
        "plt.show()\n",
        "\n",
        "mean_score = np.mean(test_scores)\n",
        "std_score = np.std(test_scores, ddof=1)\n",
        "\n",
        "print(f\"Mean of Test Scores: {mean_score}\")\n",
        "print(f\"Standard Deviation of Test Scores: {std_score}\")\n",
        "\n",
        "(mu, sigma) = stats.norm.fit(test_scores)\n",
        "\n",
        "print(f\"Fitted Normal Distribution: Mean = {mu}, Standard Deviation = {sigma}\")\n",
        "\n",
        "stat, p_value = stats.shapiro(test_scores)\n",
        "\n",
        "print(f\"\\nShapiro-Wilk Test Statistic: {stat}\")\n",
        "print(f\"P-Value for normality test: {p_value}\")\n",
        "\n",
        "alpha = 0.05\n",
        "if p_value < alpha:\n",
        "    print(\"\\nReject the null hypothesis: The data does not follow a normal distribution.\")\n",
        "else:\n",
        "    print(\"\\nFail to reject the null hypothesis: The data follows a normal distribution.\")\n"
      ],
      "metadata": {
        "colab": {
          "base_uri": "https://localhost:8080/",
          "height": 710
        },
        "id": "Qs99TYCiJkHf",
        "outputId": "66f930c3-600b-4985-8db9-2c21c291f5f0"
      },
      "execution_count": 10,
      "outputs": [
        {
          "output_type": "display_data",
          "data": {
            "text/plain": [
              "<Figure size 1000x600 with 1 Axes>"
            ],
            "image/png": "[encoded data removed]"
          },
          "metadata": {}
        },
        {
          "output_type": "stream",
          "name": "stdout",
          "text": [
            "Mean of Test Scores: 96.0\n",
            "Standard Deviation of Test Scores: 7.52772652709081\n",
            "Fitted Normal Distribution: Mean = 96.0, Standard Deviation = 7.14142842854285\n",
            "\n",
            "Shapiro-Wilk Test Statistic: 0.9644277262711146\n",
            "P-Value for normality test: 0.8349302637954983\n",
            "\n",
            "Fail to reject the null hypothesis: The data follows a normal distribution.\n"
          ]
        }
      ]
    },
    {
      "cell_type": "markdown",
      "source": [
        "# 12. Dataset: Sample data of a new drug's effect on blood pressure reduction (inmmHg): 10, 12, 14, 15, 13, 16, 18, 17, 19, 20\n",
        "### a) Perform a t-test to determine if the new drug has a significant effect on blood pressure reduction.\n",
        "### b) Report the p-value and interpret the results.\n",
        "### c)Confidence Intervals"
      ],
      "metadata": {
        "id": "puUtiDBjKoTa"
      }
    },
    {
      "cell_type": "code",
      "source": [
        "import numpy as np\n",
        "import scipy.stats as stats\n",
        "\n",
        "blood_pressure_reduction = np.array([10, 12, 14, 15, 13, 16, 18, 17, 19, 20])\n",
        "\n",
        "t_stat, p_value = stats.ttest_1samp(blood_pressure_reduction, 0)\n",
        "\n",
        "print(f\"T-Statistic: {t_stat}\")\n",
        "print(f\"P-Value: {p_value}\")\n",
        "\n",
        "alpha = 0.05\n",
        "if p_value < alpha:\n",
        "    print(\"\\nReject the null hypothesis: The new drug has a significant effect on blood pressure reduction.\")\n",
        "else:\n",
        "    print(\"\\nFail to reject the null hypothesis: The new drug does not have a significant effect on blood pressure reduction.\")\n",
        "\n",
        "mean_reduction = np.mean(blood_pressure_reduction)\n",
        "std_error = np.std(blood_pressure_reduction, ddof=1) / np.sqrt(len(blood_pressure_reduction))\n"
      ],
      "metadata": {
        "colab": {
          "base_uri": "https://localhost:8080/"
        },
        "id": "4BOVGs6GKnk4",
        "outputId": "2547f77e-1cc6-4bbf-9a2e-31f841fef8be"
      },
      "execution_count": 11,
      "outputs": [
        {
          "output_type": "stream",
          "name": "stdout",
          "text": [
            "T-Statistic: 15.198684153570664\n",
            "P-Value: 1.0062192292419559e-07\n",
            "\n",
            "Reject the null hypothesis: The new drug has a significant effect on blood pressure reduction.\n"
          ]
        }
      ]
    },
    {
      "cell_type": "markdown",
      "source": [
        "#13. Dataset: Monthly income of individuals (in $1000s): 3.5, 4.0, 4.2, 4.5, 4.7, 5.0,5.3, 5.5, 5.7, 6.0\n",
        "### a) Calculate the 95% confidence interval for the mean monthly income.\n",
        "### b) Box Plot"
      ],
      "metadata": {
        "id": "LbbD4zxyMRGQ"
      }
    },
    {
      "cell_type": "code",
      "source": [
        "import numpy as np\n",
        "import scipy.stats as stats\n",
        "import matplotlib.pyplot as plt\n",
        "\n",
        "income_data = np.array([3.5, 4.0, 4.2, 4.5, 4.7, 5.0, 5.3, 5.5, 5.7, 6.0])\n",
        "\n",
        "\n",
        "mean_income = np.mean(income_data)\n",
        "std_error = np.std(income_data, ddof=1) / np.sqrt(len(income_data))\n",
        "\n",
        "t_critical = stats.t.ppf(1 - 0.025, df=len(income_data) - 1)\n",
        "\n",
        "margin_of_error = t_critical * std_error\n",
        "\n",
        "confidence_interval = (mean_income - margin_of_error, mean_income + margin_of_error)\n",
        "\n",
        "print(f\"95% Confidence Interval for the mean monthly income: ({confidence_interval[0]:.2f}, {confidence_interval[1]:.2f})\")\n",
        "\n",
        "plt.figure(figsize=(8, 6))\n",
        "plt.boxplot(income_data, vert=False, patch_artist=True, boxprops=dict(facecolor='lightblue', color='blue'), medianprops=dict(color='red'))\n",
        "plt.title(\"Box Plot of Monthly Income\")\n",
        "plt.xlabel(\"Income ($1000s)\")\n",
        "plt.show()\n"
      ],
      "metadata": {
        "colab": {
          "base_uri": "https://localhost:8080/",
          "height": 582
        },
        "id": "5cnKUv9SLzvK",
        "outputId": "0468b0c8-286a-43da-890b-3a877eccdeab"
      },
      "execution_count": 12,
      "outputs": [
        {
          "output_type": "stream",
          "name": "stdout",
          "text": [
            "95% Confidence Interval for the mean monthly income: (4.27, 5.41)\n"
          ]
        },
        {
          "output_type": "display_data",
          "data": {
            "text/plain": [
              "<Figure size 800x600 with 1 Axes>"
            ],
            "image/png": "[encoded data removed]"
          },
          "metadata": {}
        }
      ]
    }
  ]
}